{
 "cells": [
  {
   "cell_type": "code",
   "execution_count": 1,
   "id": "58f996c7",
   "metadata": {},
   "outputs": [],
   "source": [
    "import numpy as np"
   ]
  },
  {
   "cell_type": "code",
   "execution_count": 2,
   "id": "78f43667",
   "metadata": {},
   "outputs": [
    {
     "data": {
      "text/plain": [
       "array([3, 1, 5, 6, 2])"
      ]
     },
     "execution_count": 2,
     "metadata": {},
     "output_type": "execute_result"
    }
   ],
   "source": [
    "np.array([3,1,5,6,2])"
   ]
  },
  {
   "cell_type": "code",
   "execution_count": 3,
   "id": "e0ba01ef",
   "metadata": {},
   "outputs": [],
   "source": [
    "x = np.array([1,3,6,8,9,3,2,5,7,1,12])"
   ]
  },
  {
   "cell_type": "code",
   "execution_count": 4,
   "id": "ed8f8083",
   "metadata": {},
   "outputs": [
    {
     "data": {
      "text/plain": [
       "57"
      ]
     },
     "execution_count": 4,
     "metadata": {},
     "output_type": "execute_result"
    }
   ],
   "source": [
    "np.sum(x)"
   ]
  },
  {
   "cell_type": "code",
   "execution_count": 5,
   "id": "0c2c3716",
   "metadata": {},
   "outputs": [
    {
     "data": {
      "text/plain": [
       "5.181818181818182"
      ]
     },
     "execution_count": 5,
     "metadata": {},
     "output_type": "execute_result"
    }
   ],
   "source": [
    "np.mean(x)"
   ]
  },
  {
   "cell_type": "code",
   "execution_count": 6,
   "id": "e06de87f",
   "metadata": {},
   "outputs": [
    {
     "data": {
      "text/plain": [
       "5.0"
      ]
     },
     "execution_count": 6,
     "metadata": {},
     "output_type": "execute_result"
    }
   ],
   "source": [
    "np.median(x)"
   ]
  },
  {
   "cell_type": "code",
   "execution_count": 7,
   "id": "1d89d092",
   "metadata": {},
   "outputs": [
    {
     "data": {
      "text/plain": [
       "3.4063625445809445"
      ]
     },
     "execution_count": 7,
     "metadata": {},
     "output_type": "execute_result"
    }
   ],
   "source": [
    "np.std(x)"
   ]
  },
  {
   "cell_type": "code",
   "execution_count": 8,
   "id": "a7fda796",
   "metadata": {},
   "outputs": [
    {
     "data": {
      "text/plain": [
       "11.603305785123966"
      ]
     },
     "execution_count": 8,
     "metadata": {},
     "output_type": "execute_result"
    }
   ],
   "source": [
    "np.var(x)"
   ]
  },
  {
   "cell_type": "code",
   "execution_count": 9,
   "id": "9e6b6145",
   "metadata": {},
   "outputs": [
    {
     "data": {
      "text/plain": [
       "25"
      ]
     },
     "execution_count": 9,
     "metadata": {},
     "output_type": "execute_result"
    }
   ],
   "source": [
    "np.random.randint(1,100)"
   ]
  },
  {
   "cell_type": "code",
   "execution_count": 10,
   "id": "5518ef13",
   "metadata": {},
   "outputs": [
    {
     "data": {
      "text/plain": [
       "0.7992720084625285"
      ]
     },
     "execution_count": 10,
     "metadata": {},
     "output_type": "execute_result"
    }
   ],
   "source": [
    "np.random.random()"
   ]
  },
  {
   "cell_type": "code",
   "execution_count": 11,
   "id": "a6bec82c",
   "metadata": {},
   "outputs": [
    {
     "data": {
      "text/plain": [
       "array([0.57896362, 0.52657585, 0.79520669, 0.68920724, 0.31185765])"
      ]
     },
     "execution_count": 11,
     "metadata": {},
     "output_type": "execute_result"
    }
   ],
   "source": [
    "np.random.random(5)"
   ]
  },
  {
   "cell_type": "code",
   "execution_count": 13,
   "id": "7470975e",
   "metadata": {},
   "outputs": [
    {
     "data": {
      "text/plain": [
       "array([[0.93639936, 0.07841752, 0.66182297, 0.02499345, 0.61813983],\n",
       "       [0.48276844, 0.47812923, 0.0120015 , 0.09416901, 0.78653859],\n",
       "       [0.91944033, 0.96048729, 0.12320661, 0.89466758, 0.87660048],\n",
       "       [0.92236413, 0.66320374, 0.85739167, 0.89835632, 0.17183192],\n",
       "       [0.18329853, 0.64172643, 0.9603649 , 0.29775572, 0.99976689]])"
      ]
     },
     "execution_count": 13,
     "metadata": {},
     "output_type": "execute_result"
    }
   ],
   "source": [
    "np.random.random((5,5))"
   ]
  },
  {
   "cell_type": "code",
   "execution_count": 14,
   "id": "0968fdf2",
   "metadata": {},
   "outputs": [
    {
     "data": {
      "text/plain": [
       "array([68, 36, 12,  8, 73, 56, 22, 75,  4, 29, 40, 67,  2, 28, 51, 85, 64,\n",
       "        2, 62, 14])"
      ]
     },
     "execution_count": 14,
     "metadata": {},
     "output_type": "execute_result"
    }
   ],
   "source": [
    "np.random.randint(1,100,20)"
   ]
  },
  {
   "cell_type": "code",
   "execution_count": 18,
   "id": "6a5d572b",
   "metadata": {},
   "outputs": [],
   "source": [
    "x = np.random.randint(1,100,(4,6))"
   ]
  },
  {
   "cell_type": "code",
   "execution_count": 19,
   "id": "68f93c06",
   "metadata": {},
   "outputs": [
    {
     "data": {
      "text/plain": [
       "array([[68, 97, 92, 99, 31, 21],\n",
       "       [67, 16, 61, 84, 94, 74],\n",
       "       [54, 68, 19, 12, 11, 95],\n",
       "       [ 8, 81, 46, 27, 89, 16]])"
      ]
     },
     "execution_count": 19,
     "metadata": {},
     "output_type": "execute_result"
    }
   ],
   "source": [
    "x"
   ]
  },
  {
   "cell_type": "code",
   "execution_count": 20,
   "id": "0d715b84",
   "metadata": {},
   "outputs": [
    {
     "data": {
      "text/plain": [
       "1330"
      ]
     },
     "execution_count": 20,
     "metadata": {},
     "output_type": "execute_result"
    }
   ],
   "source": [
    "np.sum(x)"
   ]
  },
  {
   "cell_type": "code",
   "execution_count": 21,
   "id": "0781faf2",
   "metadata": {},
   "outputs": [
    {
     "data": {
      "text/plain": [
       "array([197, 262, 218, 222, 225, 206])"
      ]
     },
     "execution_count": 21,
     "metadata": {},
     "output_type": "execute_result"
    }
   ],
   "source": [
    "# column wise\n",
    "np.sum(x, axis=0)"
   ]
  },
  {
   "cell_type": "code",
   "execution_count": 22,
   "id": "a3d1b735",
   "metadata": {},
   "outputs": [
    {
     "data": {
      "text/plain": [
       "array([408, 396, 259, 267])"
      ]
     },
     "execution_count": 22,
     "metadata": {},
     "output_type": "execute_result"
    }
   ],
   "source": [
    "# row wise\n",
    "np.sum(x, axis=1)"
   ]
  },
  {
   "cell_type": "code",
   "execution_count": 23,
   "id": "82efb475",
   "metadata": {},
   "outputs": [
    {
     "data": {
      "text/plain": [
       "(4, 6)"
      ]
     },
     "execution_count": 23,
     "metadata": {},
     "output_type": "execute_result"
    }
   ],
   "source": [
    "x.shape"
   ]
  },
  {
   "cell_type": "code",
   "execution_count": 24,
   "id": "0b0fa831",
   "metadata": {},
   "outputs": [],
   "source": [
    "# Indexing, Slicing, Methods"
   ]
  },
  {
   "cell_type": "code",
   "execution_count": 25,
   "id": "c3003e7f",
   "metadata": {},
   "outputs": [],
   "source": [
    "import pandas as pd"
   ]
  },
  {
   "cell_type": "code",
   "execution_count": 26,
   "id": "3af65f2c",
   "metadata": {},
   "outputs": [],
   "source": [
    "df = pd.read_excel(\"Dataset_Sales.xlsx\")"
   ]
  },
  {
   "cell_type": "code",
   "execution_count": 27,
   "id": "cf705b00",
   "metadata": {},
   "outputs": [
    {
     "data": {
      "text/plain": [
       "(15000, 17)"
      ]
     },
     "execution_count": 27,
     "metadata": {},
     "output_type": "execute_result"
    }
   ],
   "source": [
    "df.shape"
   ]
  },
  {
   "cell_type": "code",
   "execution_count": 28,
   "id": "a6500137",
   "metadata": {},
   "outputs": [
    {
     "data": {
      "text/html": [
       "<div>\n",
       "<style scoped>\n",
       "    .dataframe tbody tr th:only-of-type {\n",
       "        vertical-align: middle;\n",
       "    }\n",
       "\n",
       "    .dataframe tbody tr th {\n",
       "        vertical-align: top;\n",
       "    }\n",
       "\n",
       "    .dataframe thead th {\n",
       "        text-align: right;\n",
       "    }\n",
       "</style>\n",
       "<table border=\"1\" class=\"dataframe\">\n",
       "  <thead>\n",
       "    <tr style=\"text-align: right;\">\n",
       "      <th></th>\n",
       "      <th>Order ID</th>\n",
       "      <th>Order Date</th>\n",
       "      <th>Unit Cost</th>\n",
       "      <th>Price</th>\n",
       "      <th>Order Qty</th>\n",
       "      <th>Cost of Sales</th>\n",
       "      <th>Sales</th>\n",
       "      <th>Profit</th>\n",
       "      <th>Channel</th>\n",
       "      <th>Promotion Name</th>\n",
       "      <th>Product Name</th>\n",
       "      <th>Manufacturer</th>\n",
       "      <th>Product Sub Category</th>\n",
       "      <th>Product Category</th>\n",
       "      <th>Region</th>\n",
       "      <th>City</th>\n",
       "      <th>Country</th>\n",
       "    </tr>\n",
       "  </thead>\n",
       "  <tbody>\n",
       "    <tr>\n",
       "      <th>0</th>\n",
       "      <td>7077</td>\n",
       "      <td>2013-03-18</td>\n",
       "      <td>76.094968</td>\n",
       "      <td>304.00</td>\n",
       "      <td>9</td>\n",
       "      <td>684.854710</td>\n",
       "      <td>2714.7200</td>\n",
       "      <td>2029.865290</td>\n",
       "      <td>Store</td>\n",
       "      <td>European Spring Promotion</td>\n",
       "      <td>Contoso SLR Camera M143 Grey</td>\n",
       "      <td>Contoso, Ltd</td>\n",
       "      <td>Digital SLR Cameras</td>\n",
       "      <td>Cameras and camcorders</td>\n",
       "      <td>Europe</td>\n",
       "      <td>Moscow</td>\n",
       "      <td>Russia</td>\n",
       "    </tr>\n",
       "    <tr>\n",
       "      <th>1</th>\n",
       "      <td>117</td>\n",
       "      <td>2012-02-23</td>\n",
       "      <td>7.491753</td>\n",
       "      <td>12.99</td>\n",
       "      <td>4</td>\n",
       "      <td>29.967011</td>\n",
       "      <td>50.1414</td>\n",
       "      <td>20.174389</td>\n",
       "      <td>Store</td>\n",
       "      <td>European Spring Promotion</td>\n",
       "      <td>Contoso 512MB MP3 Player E51 Blue</td>\n",
       "      <td>Contoso, Ltd</td>\n",
       "      <td>MP4&amp;MP3</td>\n",
       "      <td>Audio</td>\n",
       "      <td>Europe</td>\n",
       "      <td>Moscow</td>\n",
       "      <td>Russia</td>\n",
       "    </tr>\n",
       "    <tr>\n",
       "      <th>2</th>\n",
       "      <td>7018</td>\n",
       "      <td>2012-01-11</td>\n",
       "      <td>10.122338</td>\n",
       "      <td>159.99</td>\n",
       "      <td>9</td>\n",
       "      <td>91.101039</td>\n",
       "      <td>1395.1128</td>\n",
       "      <td>1304.011761</td>\n",
       "      <td>Store</td>\n",
       "      <td>European Spring Promotion</td>\n",
       "      <td>Contoso DVD 9-Inch Player Portable M300 Silver</td>\n",
       "      <td>Contoso, Ltd</td>\n",
       "      <td>Movie DVD</td>\n",
       "      <td>Music, Movies and Audio Books</td>\n",
       "      <td>Europe</td>\n",
       "      <td>Moscow</td>\n",
       "      <td>Russia</td>\n",
       "    </tr>\n",
       "    <tr>\n",
       "      <th>3</th>\n",
       "      <td>140</td>\n",
       "      <td>2014-02-13</td>\n",
       "      <td>0.576153</td>\n",
       "      <td>25.69</td>\n",
       "      <td>18</td>\n",
       "      <td>10.370759</td>\n",
       "      <td>462.4200</td>\n",
       "      <td>452.049241</td>\n",
       "      <td>Store</td>\n",
       "      <td>North America Spring Promotion</td>\n",
       "      <td>NT Bluetooth Stereo Headphones E52 Pink</td>\n",
       "      <td>Northwind Traders</td>\n",
       "      <td>Bluetooth Headphones</td>\n",
       "      <td>Audio</td>\n",
       "      <td>North America</td>\n",
       "      <td>Bellevue</td>\n",
       "      <td>United States</td>\n",
       "    </tr>\n",
       "    <tr>\n",
       "      <th>4</th>\n",
       "      <td>491</td>\n",
       "      <td>2013-01-17</td>\n",
       "      <td>108.508777</td>\n",
       "      <td>304.00</td>\n",
       "      <td>9</td>\n",
       "      <td>976.578991</td>\n",
       "      <td>2614.4000</td>\n",
       "      <td>1637.821009</td>\n",
       "      <td>Online</td>\n",
       "      <td>Asian Spring Promotion</td>\n",
       "      <td>Contoso SLR Camera M143 Grey</td>\n",
       "      <td>Contoso, Ltd</td>\n",
       "      <td>Digital SLR Cameras</td>\n",
       "      <td>Cameras and camcorders</td>\n",
       "      <td>Asia</td>\n",
       "      <td>Beijing</td>\n",
       "      <td>China</td>\n",
       "    </tr>\n",
       "  </tbody>\n",
       "</table>\n",
       "</div>"
      ],
      "text/plain": [
       "   Order ID Order Date   Unit Cost   Price  Order Qty  Cost of Sales  \\\n",
       "0      7077 2013-03-18   76.094968  304.00          9     684.854710   \n",
       "1       117 2012-02-23    7.491753   12.99          4      29.967011   \n",
       "2      7018 2012-01-11   10.122338  159.99          9      91.101039   \n",
       "3       140 2014-02-13    0.576153   25.69         18      10.370759   \n",
       "4       491 2013-01-17  108.508777  304.00          9     976.578991   \n",
       "\n",
       "       Sales       Profit Channel                  Promotion Name  \\\n",
       "0  2714.7200  2029.865290   Store       European Spring Promotion   \n",
       "1    50.1414    20.174389   Store       European Spring Promotion   \n",
       "2  1395.1128  1304.011761   Store       European Spring Promotion   \n",
       "3   462.4200   452.049241   Store  North America Spring Promotion   \n",
       "4  2614.4000  1637.821009  Online          Asian Spring Promotion   \n",
       "\n",
       "                                     Product Name       Manufacturer  \\\n",
       "0                    Contoso SLR Camera M143 Grey       Contoso, Ltd   \n",
       "1               Contoso 512MB MP3 Player E51 Blue       Contoso, Ltd   \n",
       "2  Contoso DVD 9-Inch Player Portable M300 Silver       Contoso, Ltd   \n",
       "3         NT Bluetooth Stereo Headphones E52 Pink  Northwind Traders   \n",
       "4                    Contoso SLR Camera M143 Grey       Contoso, Ltd   \n",
       "\n",
       "   Product Sub Category               Product Category         Region  \\\n",
       "0   Digital SLR Cameras        Cameras and camcorders          Europe   \n",
       "1               MP4&MP3                          Audio         Europe   \n",
       "2             Movie DVD  Music, Movies and Audio Books         Europe   \n",
       "3  Bluetooth Headphones                          Audio  North America   \n",
       "4   Digital SLR Cameras        Cameras and camcorders            Asia   \n",
       "\n",
       "       City        Country  \n",
       "0    Moscow         Russia  \n",
       "1    Moscow         Russia  \n",
       "2    Moscow         Russia  \n",
       "3  Bellevue  United States  \n",
       "4   Beijing          China  "
      ]
     },
     "execution_count": 28,
     "metadata": {},
     "output_type": "execute_result"
    }
   ],
   "source": [
    "# first 5 rows\n",
    "df.head()"
   ]
  },
  {
   "cell_type": "code",
   "execution_count": 29,
   "id": "e180c009",
   "metadata": {},
   "outputs": [
    {
     "data": {
      "text/html": [
       "<div>\n",
       "<style scoped>\n",
       "    .dataframe tbody tr th:only-of-type {\n",
       "        vertical-align: middle;\n",
       "    }\n",
       "\n",
       "    .dataframe tbody tr th {\n",
       "        vertical-align: top;\n",
       "    }\n",
       "\n",
       "    .dataframe thead th {\n",
       "        text-align: right;\n",
       "    }\n",
       "</style>\n",
       "<table border=\"1\" class=\"dataframe\">\n",
       "  <thead>\n",
       "    <tr style=\"text-align: right;\">\n",
       "      <th></th>\n",
       "      <th>Order ID</th>\n",
       "      <th>Order Date</th>\n",
       "      <th>Unit Cost</th>\n",
       "      <th>Price</th>\n",
       "      <th>Order Qty</th>\n",
       "      <th>Cost of Sales</th>\n",
       "      <th>Sales</th>\n",
       "      <th>Profit</th>\n",
       "      <th>Channel</th>\n",
       "      <th>Promotion Name</th>\n",
       "      <th>Product Name</th>\n",
       "      <th>Manufacturer</th>\n",
       "      <th>Product Sub Category</th>\n",
       "      <th>Product Category</th>\n",
       "      <th>Region</th>\n",
       "      <th>City</th>\n",
       "      <th>Country</th>\n",
       "    </tr>\n",
       "  </thead>\n",
       "  <tbody>\n",
       "    <tr>\n",
       "      <th>0</th>\n",
       "      <td>7077</td>\n",
       "      <td>2013-03-18</td>\n",
       "      <td>76.094968</td>\n",
       "      <td>304.00</td>\n",
       "      <td>9</td>\n",
       "      <td>684.854710</td>\n",
       "      <td>2714.7200</td>\n",
       "      <td>2029.865290</td>\n",
       "      <td>Store</td>\n",
       "      <td>European Spring Promotion</td>\n",
       "      <td>Contoso SLR Camera M143 Grey</td>\n",
       "      <td>Contoso, Ltd</td>\n",
       "      <td>Digital SLR Cameras</td>\n",
       "      <td>Cameras and camcorders</td>\n",
       "      <td>Europe</td>\n",
       "      <td>Moscow</td>\n",
       "      <td>Russia</td>\n",
       "    </tr>\n",
       "    <tr>\n",
       "      <th>1</th>\n",
       "      <td>117</td>\n",
       "      <td>2012-02-23</td>\n",
       "      <td>7.491753</td>\n",
       "      <td>12.99</td>\n",
       "      <td>4</td>\n",
       "      <td>29.967011</td>\n",
       "      <td>50.1414</td>\n",
       "      <td>20.174389</td>\n",
       "      <td>Store</td>\n",
       "      <td>European Spring Promotion</td>\n",
       "      <td>Contoso 512MB MP3 Player E51 Blue</td>\n",
       "      <td>Contoso, Ltd</td>\n",
       "      <td>MP4&amp;MP3</td>\n",
       "      <td>Audio</td>\n",
       "      <td>Europe</td>\n",
       "      <td>Moscow</td>\n",
       "      <td>Russia</td>\n",
       "    </tr>\n",
       "    <tr>\n",
       "      <th>2</th>\n",
       "      <td>7018</td>\n",
       "      <td>2012-01-11</td>\n",
       "      <td>10.122338</td>\n",
       "      <td>159.99</td>\n",
       "      <td>9</td>\n",
       "      <td>91.101039</td>\n",
       "      <td>1395.1128</td>\n",
       "      <td>1304.011761</td>\n",
       "      <td>Store</td>\n",
       "      <td>European Spring Promotion</td>\n",
       "      <td>Contoso DVD 9-Inch Player Portable M300 Silver</td>\n",
       "      <td>Contoso, Ltd</td>\n",
       "      <td>Movie DVD</td>\n",
       "      <td>Music, Movies and Audio Books</td>\n",
       "      <td>Europe</td>\n",
       "      <td>Moscow</td>\n",
       "      <td>Russia</td>\n",
       "    </tr>\n",
       "  </tbody>\n",
       "</table>\n",
       "</div>"
      ],
      "text/plain": [
       "   Order ID Order Date  Unit Cost   Price  Order Qty  Cost of Sales  \\\n",
       "0      7077 2013-03-18  76.094968  304.00          9     684.854710   \n",
       "1       117 2012-02-23   7.491753   12.99          4      29.967011   \n",
       "2      7018 2012-01-11  10.122338  159.99          9      91.101039   \n",
       "\n",
       "       Sales       Profit Channel             Promotion Name  \\\n",
       "0  2714.7200  2029.865290   Store  European Spring Promotion   \n",
       "1    50.1414    20.174389   Store  European Spring Promotion   \n",
       "2  1395.1128  1304.011761   Store  European Spring Promotion   \n",
       "\n",
       "                                     Product Name  Manufacturer  \\\n",
       "0                    Contoso SLR Camera M143 Grey  Contoso, Ltd   \n",
       "1               Contoso 512MB MP3 Player E51 Blue  Contoso, Ltd   \n",
       "2  Contoso DVD 9-Inch Player Portable M300 Silver  Contoso, Ltd   \n",
       "\n",
       "  Product Sub Category               Product Category  Region    City Country  \n",
       "0  Digital SLR Cameras        Cameras and camcorders   Europe  Moscow  Russia  \n",
       "1              MP4&MP3                          Audio  Europe  Moscow  Russia  \n",
       "2            Movie DVD  Music, Movies and Audio Books  Europe  Moscow  Russia  "
      ]
     },
     "execution_count": 29,
     "metadata": {},
     "output_type": "execute_result"
    }
   ],
   "source": [
    "df.head(3)"
   ]
  },
  {
   "cell_type": "code",
   "execution_count": 32,
   "id": "712a7e6f",
   "metadata": {},
   "outputs": [],
   "source": [
    "india_df = df[df['Country'] == 'India']"
   ]
  },
  {
   "cell_type": "code",
   "execution_count": 34,
   "id": "b00e2945",
   "metadata": {},
   "outputs": [
    {
     "data": {
      "text/plain": [
       "United States     8510\n",
       "China             1673\n",
       "Germany           1118\n",
       "France             781\n",
       "United Kingdom     477\n",
       "Name: Country, dtype: int64"
      ]
     },
     "execution_count": 34,
     "metadata": {},
     "output_type": "execute_result"
    }
   ],
   "source": [
    "pd.value_counts(df['Country']).head()"
   ]
  },
  {
   "cell_type": "code",
   "execution_count": 37,
   "id": "85851bc1",
   "metadata": {},
   "outputs": [
    {
     "data": {
      "text/plain": [
       "2029.8652902841206"
      ]
     },
     "execution_count": 37,
     "metadata": {},
     "output_type": "execute_result"
    }
   ],
   "source": [
    "df['Profit'][0]"
   ]
  },
  {
   "cell_type": "code",
   "execution_count": 52,
   "id": "56d9d7c4",
   "metadata": {},
   "outputs": [],
   "source": [
    "df['Profit'] = df['Profit'].astype('int32')\n",
    "df['Sales'] = df['Sales'].astype('int32')"
   ]
  },
  {
   "cell_type": "code",
   "execution_count": 45,
   "id": "ab567802",
   "metadata": {},
   "outputs": [
    {
     "data": {
      "text/plain": [
       "Country\n",
       "United States     17995805\n",
       "China              4391558\n",
       "Germany            2472761\n",
       "France             1401205\n",
       "United Kingdom      729313\n",
       "Name: Profit, dtype: int32"
      ]
     },
     "execution_count": 45,
     "metadata": {},
     "output_type": "execute_result"
    }
   ],
   "source": [
    "df.groupby('Country')['Profit'].sum().sort_values(ascending=False).head(5)"
   ]
  },
  {
   "cell_type": "code",
   "execution_count": 46,
   "id": "34dad297",
   "metadata": {},
   "outputs": [
    {
     "data": {
      "text/plain": [
       "Product Category\n",
       "Computers                        12159870\n",
       "Cameras and camcorders           10101029\n",
       "TV and Video                      4822859\n",
       "Cell phones                       3284641\n",
       "Music, Movies and Audio Books      634891\n",
       "Name: Profit, dtype: int32"
      ]
     },
     "execution_count": 46,
     "metadata": {},
     "output_type": "execute_result"
    }
   ],
   "source": [
    "df.groupby('Product Category')['Profit'].sum().sort_values(ascending=False).head(5)"
   ]
  },
  {
   "cell_type": "code",
   "execution_count": 47,
   "id": "1060acb2",
   "metadata": {},
   "outputs": [
    {
     "data": {
      "text/plain": [
       "Country        Product Category       \n",
       "United States  Computers                  6797232\n",
       "               Cameras and camcorders     5824584\n",
       "               TV and Video               2864929\n",
       "               Cell phones                1830825\n",
       "China          Computers                  1703783\n",
       "Name: Profit, dtype: int32"
      ]
     },
     "execution_count": 47,
     "metadata": {},
     "output_type": "execute_result"
    }
   ],
   "source": [
    "df.groupby(['Country','Product Category'])['Profit'].sum().sort_values(ascending=False).head(5)"
   ]
  },
  {
   "cell_type": "code",
   "execution_count": 53,
   "id": "69be17e9",
   "metadata": {},
   "outputs": [
    {
     "data": {
      "text/html": [
       "<div>\n",
       "<style scoped>\n",
       "    .dataframe tbody tr th:only-of-type {\n",
       "        vertical-align: middle;\n",
       "    }\n",
       "\n",
       "    .dataframe tbody tr th {\n",
       "        vertical-align: top;\n",
       "    }\n",
       "\n",
       "    .dataframe thead th {\n",
       "        text-align: right;\n",
       "    }\n",
       "</style>\n",
       "<table border=\"1\" class=\"dataframe\">\n",
       "  <thead>\n",
       "    <tr style=\"text-align: right;\">\n",
       "      <th></th>\n",
       "      <th>Profit</th>\n",
       "      <th>Sales</th>\n",
       "    </tr>\n",
       "    <tr>\n",
       "      <th>Product Category</th>\n",
       "      <th></th>\n",
       "      <th></th>\n",
       "    </tr>\n",
       "  </thead>\n",
       "  <tbody>\n",
       "    <tr>\n",
       "      <th>Computers</th>\n",
       "      <td>12159870</td>\n",
       "      <td>21305534</td>\n",
       "    </tr>\n",
       "    <tr>\n",
       "      <th>Cameras and camcorders</th>\n",
       "      <td>10101029</td>\n",
       "      <td>17048001</td>\n",
       "    </tr>\n",
       "    <tr>\n",
       "      <th>TV and Video</th>\n",
       "      <td>4822859</td>\n",
       "      <td>9107330</td>\n",
       "    </tr>\n",
       "    <tr>\n",
       "      <th>Cell phones</th>\n",
       "      <td>3284641</td>\n",
       "      <td>5840259</td>\n",
       "    </tr>\n",
       "    <tr>\n",
       "      <th>Music, Movies and Audio Books</th>\n",
       "      <td>634891</td>\n",
       "      <td>1056917</td>\n",
       "    </tr>\n",
       "  </tbody>\n",
       "</table>\n",
       "</div>"
      ],
      "text/plain": [
       "                                 Profit     Sales\n",
       "Product Category                                 \n",
       "Computers                      12159870  21305534\n",
       "Cameras and camcorders         10101029  17048001\n",
       "TV and Video                    4822859   9107330\n",
       "Cell phones                     3284641   5840259\n",
       "Music, Movies and Audio Books    634891   1056917"
      ]
     },
     "execution_count": 53,
     "metadata": {},
     "output_type": "execute_result"
    }
   ],
   "source": [
    "df.groupby('Product Category')[['Profit','Sales']].sum().sort_values(by='Profit',ascending=False).head(5)"
   ]
  },
  {
   "cell_type": "code",
   "execution_count": 54,
   "id": "5c6cbfc3",
   "metadata": {},
   "outputs": [
    {
     "data": {
      "text/html": [
       "<div>\n",
       "<style scoped>\n",
       "    .dataframe tbody tr th:only-of-type {\n",
       "        vertical-align: middle;\n",
       "    }\n",
       "\n",
       "    .dataframe tbody tr th {\n",
       "        vertical-align: top;\n",
       "    }\n",
       "\n",
       "    .dataframe thead th {\n",
       "        text-align: right;\n",
       "    }\n",
       "</style>\n",
       "<table border=\"1\" class=\"dataframe\">\n",
       "  <thead>\n",
       "    <tr style=\"text-align: right;\">\n",
       "      <th></th>\n",
       "      <th>Profit</th>\n",
       "      <th>Sales</th>\n",
       "      <th>Order Qty</th>\n",
       "    </tr>\n",
       "    <tr>\n",
       "      <th>Product Category</th>\n",
       "      <th></th>\n",
       "      <th></th>\n",
       "      <th></th>\n",
       "    </tr>\n",
       "  </thead>\n",
       "  <tbody>\n",
       "    <tr>\n",
       "      <th>Computers</th>\n",
       "      <td>12159870</td>\n",
       "      <td>21305534</td>\n",
       "      <td>69425</td>\n",
       "    </tr>\n",
       "    <tr>\n",
       "      <th>Cameras and camcorders</th>\n",
       "      <td>10101029</td>\n",
       "      <td>17048001</td>\n",
       "      <td>43893</td>\n",
       "    </tr>\n",
       "    <tr>\n",
       "      <th>TV and Video</th>\n",
       "      <td>4822859</td>\n",
       "      <td>9107330</td>\n",
       "      <td>22714</td>\n",
       "    </tr>\n",
       "    <tr>\n",
       "      <th>Cell phones</th>\n",
       "      <td>3284641</td>\n",
       "      <td>5840259</td>\n",
       "      <td>96074</td>\n",
       "    </tr>\n",
       "    <tr>\n",
       "      <th>Music, Movies and Audio Books</th>\n",
       "      <td>634891</td>\n",
       "      <td>1056917</td>\n",
       "      <td>9953</td>\n",
       "    </tr>\n",
       "  </tbody>\n",
       "</table>\n",
       "</div>"
      ],
      "text/plain": [
       "                                 Profit     Sales  Order Qty\n",
       "Product Category                                            \n",
       "Computers                      12159870  21305534      69425\n",
       "Cameras and camcorders         10101029  17048001      43893\n",
       "TV and Video                    4822859   9107330      22714\n",
       "Cell phones                     3284641   5840259      96074\n",
       "Music, Movies and Audio Books    634891   1056917       9953"
      ]
     },
     "execution_count": 54,
     "metadata": {},
     "output_type": "execute_result"
    }
   ],
   "source": [
    "df.groupby('Product Category')[['Profit','Sales','Order Qty']].sum().sort_values(by='Profit',ascending=False).head(5)"
   ]
  },
  {
   "cell_type": "code",
   "execution_count": 55,
   "id": "9e8605b8",
   "metadata": {},
   "outputs": [
    {
     "data": {
      "text/html": [
       "<div>\n",
       "<style scoped>\n",
       "    .dataframe tbody tr th:only-of-type {\n",
       "        vertical-align: middle;\n",
       "    }\n",
       "\n",
       "    .dataframe tbody tr th {\n",
       "        vertical-align: top;\n",
       "    }\n",
       "\n",
       "    .dataframe thead th {\n",
       "        text-align: right;\n",
       "    }\n",
       "</style>\n",
       "<table border=\"1\" class=\"dataframe\">\n",
       "  <thead>\n",
       "    <tr style=\"text-align: right;\">\n",
       "      <th></th>\n",
       "      <th>Profit</th>\n",
       "      <th>Sales</th>\n",
       "    </tr>\n",
       "    <tr>\n",
       "      <th>Country</th>\n",
       "      <th></th>\n",
       "      <th></th>\n",
       "    </tr>\n",
       "  </thead>\n",
       "  <tbody>\n",
       "    <tr>\n",
       "      <th>United States</th>\n",
       "      <td>17995805</td>\n",
       "      <td>31632681</td>\n",
       "    </tr>\n",
       "    <tr>\n",
       "      <th>China</th>\n",
       "      <td>4391558</td>\n",
       "      <td>7557410</td>\n",
       "    </tr>\n",
       "    <tr>\n",
       "      <th>Germany</th>\n",
       "      <td>2472761</td>\n",
       "      <td>4314557</td>\n",
       "    </tr>\n",
       "    <tr>\n",
       "      <th>France</th>\n",
       "      <td>1401205</td>\n",
       "      <td>2628148</td>\n",
       "    </tr>\n",
       "    <tr>\n",
       "      <th>United Kingdom</th>\n",
       "      <td>729313</td>\n",
       "      <td>1324092</td>\n",
       "    </tr>\n",
       "  </tbody>\n",
       "</table>\n",
       "</div>"
      ],
      "text/plain": [
       "                  Profit     Sales\n",
       "Country                           \n",
       "United States   17995805  31632681\n",
       "China            4391558   7557410\n",
       "Germany          2472761   4314557\n",
       "France           1401205   2628148\n",
       "United Kingdom    729313   1324092"
      ]
     },
     "execution_count": 55,
     "metadata": {},
     "output_type": "execute_result"
    }
   ],
   "source": [
    "df.groupby('Country')[['Profit','Sales']].sum().sort_values(by='Profit',ascending=False).head(5)"
   ]
  },
  {
   "cell_type": "code",
   "execution_count": 56,
   "id": "cf42ebf5",
   "metadata": {},
   "outputs": [],
   "source": [
    "import matplotlib.pyplot as plt\n",
    "import seaborn as sns"
   ]
  },
  {
   "cell_type": "code",
   "execution_count": 57,
   "id": "c1f46a7b",
   "metadata": {},
   "outputs": [],
   "source": [
    "top_10 = df.groupby('Country')['Profit'].sum().sort_values(ascending=False).head(10)"
   ]
  },
  {
   "cell_type": "code",
   "execution_count": 66,
   "id": "191bb7a9",
   "metadata": {},
   "outputs": [
    {
     "data": {
      "text/plain": [
       "<AxesSubplot:ylabel='Country'>"
      ]
     },
     "execution_count": 66,
     "metadata": {},
     "output_type": "execute_result"
    },
    {
     "data": {
      "image/png": "[encoded data removed]",
      "text/plain": [
       "<Figure size 640x480 with 1 Axes>"
      ]
     },
     "metadata": {},
     "output_type": "display_data"
    }
   ],
   "source": [
    "# top_10.plot.bar(width=0.9, color='red')\n",
    "top_10.plot.barh(width=0.9, color=sns.color_palette(\"inferno\"))"
   ]
  },
  {
   "cell_type": "code",
   "execution_count": 71,
   "id": "43dcb248",
   "metadata": {},
   "outputs": [
    {
     "data": {
      "image/png": "[encoded data removed]",
      "text/plain": [
       "<Figure size 640x480 with 1 Axes>"
      ]
     },
     "metadata": {},
     "output_type": "display_data"
    }
   ],
   "source": [
    "plt.scatter(df['Sales'], df['Profit'], color=\"blue\")\n",
    "plt.title(\"Sales vs Profit\")\n",
    "plt.xlabel(\"Sales\")\n",
    "plt.ylabel(\"Profit\")\n",
    "plt.show()"
   ]
  },
  {
   "cell_type": "code",
   "execution_count": 72,
   "id": "f446a252",
   "metadata": {},
   "outputs": [],
   "source": [
    "products_summary = df.groupby('Product Category')[['Profit','Sales','Order Qty']].sum().sort_values(by='Profit',ascending=False).head(5)"
   ]
  },
  {
   "cell_type": "code",
   "execution_count": 73,
   "id": "dc7e4812",
   "metadata": {},
   "outputs": [
    {
     "data": {
      "text/html": [
       "<div>\n",
       "<style scoped>\n",
       "    .dataframe tbody tr th:only-of-type {\n",
       "        vertical-align: middle;\n",
       "    }\n",
       "\n",
       "    .dataframe tbody tr th {\n",
       "        vertical-align: top;\n",
       "    }\n",
       "\n",
       "    .dataframe thead th {\n",
       "        text-align: right;\n",
       "    }\n",
       "</style>\n",
       "<table border=\"1\" class=\"dataframe\">\n",
       "  <thead>\n",
       "    <tr style=\"text-align: right;\">\n",
       "      <th></th>\n",
       "      <th>Profit</th>\n",
       "      <th>Sales</th>\n",
       "      <th>Order Qty</th>\n",
       "    </tr>\n",
       "    <tr>\n",
       "      <th>Product Category</th>\n",
       "      <th></th>\n",
       "      <th></th>\n",
       "      <th></th>\n",
       "    </tr>\n",
       "  </thead>\n",
       "  <tbody>\n",
       "    <tr>\n",
       "      <th>Computers</th>\n",
       "      <td>12159870</td>\n",
       "      <td>21305534</td>\n",
       "      <td>69425</td>\n",
       "    </tr>\n",
       "    <tr>\n",
       "      <th>Cameras and camcorders</th>\n",
       "      <td>10101029</td>\n",
       "      <td>17048001</td>\n",
       "      <td>43893</td>\n",
       "    </tr>\n",
       "    <tr>\n",
       "      <th>TV and Video</th>\n",
       "      <td>4822859</td>\n",
       "      <td>9107330</td>\n",
       "      <td>22714</td>\n",
       "    </tr>\n",
       "    <tr>\n",
       "      <th>Cell phones</th>\n",
       "      <td>3284641</td>\n",
       "      <td>5840259</td>\n",
       "      <td>96074</td>\n",
       "    </tr>\n",
       "    <tr>\n",
       "      <th>Music, Movies and Audio Books</th>\n",
       "      <td>634891</td>\n",
       "      <td>1056917</td>\n",
       "      <td>9953</td>\n",
       "    </tr>\n",
       "  </tbody>\n",
       "</table>\n",
       "</div>"
      ],
      "text/plain": [
       "                                 Profit     Sales  Order Qty\n",
       "Product Category                                            \n",
       "Computers                      12159870  21305534      69425\n",
       "Cameras and camcorders         10101029  17048001      43893\n",
       "TV and Video                    4822859   9107330      22714\n",
       "Cell phones                     3284641   5840259      96074\n",
       "Music, Movies and Audio Books    634891   1056917       9953"
      ]
     },
     "execution_count": 73,
     "metadata": {},
     "output_type": "execute_result"
    }
   ],
   "source": [
    "products_summary"
   ]
  },
  {
   "cell_type": "code",
   "execution_count": 77,
   "id": "d24ee791",
   "metadata": {},
   "outputs": [
    {
     "data": {
      "image/png": "[encoded data removed]",
      "text/plain": [
       "<Figure size 640x480 with 1 Axes>"
      ]
     },
     "metadata": {},
     "output_type": "display_data"
    }
   ],
   "source": [
    "plt.pie(products_summary['Profit'], labels=products_summary.index, autopct='%1.2f%%')\n",
    "plt.show()"
   ]
  },
  {
   "cell_type": "code",
   "execution_count": null,
   "id": "9ae2c8c2",
   "metadata": {},
   "outputs": [],
   "source": []
  }
 ],
 "metadata": {
  "kernelspec": {
   "display_name": "Python 3 (ipykernel)",
   "language": "python",
   "name": "python3"
  },
  "language_info": {
   "codemirror_mode": {
    "name": "ipython",
    "version": 3
   },
   "file_extension": ".py",
   "mimetype": "text/x-python",
   "name": "python",
   "nbconvert_exporter": "python",
   "pygments_lexer": "ipython3",
   "version": "3.9.13"
  }
 },
 "nbformat": 4,
 "nbformat_minor": 5
}
