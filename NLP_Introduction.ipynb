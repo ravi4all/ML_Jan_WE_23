{
 "cells": [
  {
   "cell_type": "code",
   "execution_count": 46,
   "id": "9eb7f4bb",
   "metadata": {},
   "outputs": [
    {
     "name": "stderr",
     "output_type": "stream",
     "text": [
      "[nltk_data] Downloading package omw-1.4 to\n",
      "[nltk_data]     C:\\Users\\asus\\AppData\\Roaming\\nltk_data...\n"
     ]
    },
    {
     "data": {
      "text/plain": [
       "True"
      ]
     },
     "execution_count": 46,
     "metadata": {},
     "output_type": "execute_result"
    }
   ],
   "source": [
    "import nltk\n",
    "# nltk.download('punkt')\n",
    "# nltk.download('stopwords')\n",
    "# nltk.download('wordnet')\n",
    "nltk.download('omw-1.4')"
   ]
  },
  {
   "cell_type": "code",
   "execution_count": 7,
   "id": "dfcc4709",
   "metadata": {},
   "outputs": [],
   "source": [
    "import string\n",
    "from nltk.tokenize import word_tokenize\n",
    "from nltk.corpus import stopwords\n",
    "from nltk.stem import WordNetLemmatizer\n",
    "from sklearn.feature_extraction.text import TfidfVectorizer"
   ]
  },
  {
   "cell_type": "code",
   "execution_count": 52,
   "id": "780b1c2b",
   "metadata": {},
   "outputs": [],
   "source": [
    "documents = [\n",
    "    \"That movies was really very awesome, and I loved that movie..!!\",\n",
    "    \"Worst movie I have ever seen... Will never watch the movie of this director again :(\",\n",
    "    \"Yesterday I watched the movie and I am still thinking about the movie direction and acting :)\"\n",
    "]"
   ]
  },
  {
   "cell_type": "code",
   "execution_count": 53,
   "id": "dcf29bd3",
   "metadata": {},
   "outputs": [],
   "source": [
    "# documents[0].split()\n",
    "# word_tokenize(documents[0])"
   ]
  },
  {
   "cell_type": "code",
   "execution_count": 54,
   "id": "2700a132",
   "metadata": {},
   "outputs": [
    {
     "data": {
      "text/plain": [
       "'!\"#$%&\\'()*+,-./:;<=>?@[\\\\]^_`{|}~'"
      ]
     },
     "execution_count": 54,
     "metadata": {},
     "output_type": "execute_result"
    }
   ],
   "source": [
    "string.punctuation"
   ]
  },
  {
   "cell_type": "code",
   "execution_count": 55,
   "id": "fdcdfe99",
   "metadata": {},
   "outputs": [],
   "source": [
    "table = str.maketrans('','',string.punctuation)"
   ]
  },
  {
   "cell_type": "code",
   "execution_count": 56,
   "id": "4788b2ee",
   "metadata": {},
   "outputs": [
    {
     "data": {
      "text/plain": [
       "'That movies was really very awesome and I loved that movie'"
      ]
     },
     "execution_count": 56,
     "metadata": {},
     "output_type": "execute_result"
    }
   ],
   "source": [
    "documents[0].translate(table)"
   ]
  },
  {
   "cell_type": "code",
   "execution_count": 57,
   "id": "e20febf2",
   "metadata": {},
   "outputs": [],
   "source": [
    "# Remove punctuations\n",
    "for i in range(len(documents)):\n",
    "    documents[i] = documents[i].lower().translate(table)"
   ]
  },
  {
   "cell_type": "code",
   "execution_count": 58,
   "id": "8f618676",
   "metadata": {},
   "outputs": [
    {
     "name": "stdout",
     "output_type": "stream",
     "text": [
      "['that movies was really very awesome and i loved that movie', 'worst movie i have ever seen will never watch the movie of this director again ', 'yesterday i watched the movie and i am still thinking about the movie direction and acting ']\n"
     ]
    }
   ],
   "source": [
    "print(documents)"
   ]
  },
  {
   "cell_type": "code",
   "execution_count": 59,
   "id": "536e761f",
   "metadata": {},
   "outputs": [],
   "source": [
    "# word tokenization\n",
    "for i in range(len(documents)):\n",
    "    documents[i] = word_tokenize(documents[i])"
   ]
  },
  {
   "cell_type": "code",
   "execution_count": 60,
   "id": "9aa9e1ae",
   "metadata": {},
   "outputs": [
    {
     "name": "stdout",
     "output_type": "stream",
     "text": [
      "[['that', 'movies', 'was', 'really', 'very', 'awesome', 'and', 'i', 'loved', 'that', 'movie'], ['worst', 'movie', 'i', 'have', 'ever', 'seen', 'will', 'never', 'watch', 'the', 'movie', 'of', 'this', 'director', 'again'], ['yesterday', 'i', 'watched', 'the', 'movie', 'and', 'i', 'am', 'still', 'thinking', 'about', 'the', 'movie', 'direction', 'and', 'acting']]\n"
     ]
    }
   ],
   "source": [
    "print(documents)"
   ]
  },
  {
   "cell_type": "code",
   "execution_count": 61,
   "id": "e86ccfa5",
   "metadata": {},
   "outputs": [],
   "source": [
    "englishStopwords = stopwords.words(\"english\")"
   ]
  },
  {
   "cell_type": "code",
   "execution_count": 73,
   "id": "82cca36b",
   "metadata": {},
   "outputs": [],
   "source": [
    "words = []\n",
    "for tokens in documents:\n",
    "    word = []\n",
    "    for i in range(len(tokens)):\n",
    "        if tokens[i] not in englishStopwords:\n",
    "            word.append(tokens[i])\n",
    "    words.append(word)"
   ]
  },
  {
   "cell_type": "code",
   "execution_count": 74,
   "id": "dd69aa3a",
   "metadata": {},
   "outputs": [
    {
     "name": "stdout",
     "output_type": "stream",
     "text": [
      "[['movies', 'really', 'awesome', 'loved', 'movie'], ['worst', 'movie', 'ever', 'seen', 'never', 'watch', 'movie', 'director'], ['yesterday', 'watched', 'movie', 'still', 'thinking', 'movie', 'direction', 'acting']]\n"
     ]
    }
   ],
   "source": [
    "print(words)"
   ]
  },
  {
   "cell_type": "code",
   "execution_count": 75,
   "id": "b612a7c6",
   "metadata": {},
   "outputs": [],
   "source": [
    "wnet = WordNetLemmatizer()"
   ]
  },
  {
   "cell_type": "code",
   "execution_count": 76,
   "id": "92074112",
   "metadata": {},
   "outputs": [
    {
     "data": {
      "text/plain": [
       "'watching'"
      ]
     },
     "execution_count": 76,
     "metadata": {},
     "output_type": "execute_result"
    }
   ],
   "source": [
    "wnet.lemmatize('watching')"
   ]
  },
  {
   "cell_type": "code",
   "execution_count": 77,
   "id": "bbd5cb6b",
   "metadata": {},
   "outputs": [
    {
     "data": {
      "text/plain": [
       "'watch'"
      ]
     },
     "execution_count": 77,
     "metadata": {},
     "output_type": "execute_result"
    }
   ],
   "source": [
    "wnet.lemmatize('watching','v')"
   ]
  },
  {
   "cell_type": "code",
   "execution_count": 78,
   "id": "05943189",
   "metadata": {},
   "outputs": [
    {
     "data": {
      "text/plain": [
       "'buy'"
      ]
     },
     "execution_count": 78,
     "metadata": {},
     "output_type": "execute_result"
    }
   ],
   "source": [
    "wnet.lemmatize('bought','v')"
   ]
  },
  {
   "cell_type": "code",
   "execution_count": 79,
   "id": "e94abe41",
   "metadata": {},
   "outputs": [],
   "source": [
    "for i in range(len(words)):\n",
    "    for j in range(len(words[i])):\n",
    "        words[i][j] = wnet.lemmatize(words[i][j], 'v')"
   ]
  },
  {
   "cell_type": "code",
   "execution_count": 80,
   "id": "7ea9b19f",
   "metadata": {},
   "outputs": [
    {
     "name": "stdout",
     "output_type": "stream",
     "text": [
      "[['movies', 'really', 'awesome', 'love', 'movie'], ['worst', 'movie', 'ever', 'see', 'never', 'watch', 'movie', 'director'], ['yesterday', 'watch', 'movie', 'still', 'think', 'movie', 'direction', 'act']]\n"
     ]
    }
   ],
   "source": [
    "print(words)"
   ]
  },
  {
   "cell_type": "code",
   "execution_count": 81,
   "id": "394d37c5",
   "metadata": {},
   "outputs": [],
   "source": [
    "for i in range(len(words)):\n",
    "    words[i] = \" \".join(words[i])"
   ]
  },
  {
   "cell_type": "code",
   "execution_count": 82,
   "id": "28156299",
   "metadata": {},
   "outputs": [
    {
     "data": {
      "text/plain": [
       "['movies really awesome love movie',\n",
       " 'worst movie ever see never watch movie director',\n",
       " 'yesterday watch movie still think movie direction act']"
      ]
     },
     "execution_count": 82,
     "metadata": {},
     "output_type": "execute_result"
    }
   ],
   "source": [
    "words"
   ]
  },
  {
   "cell_type": "code",
   "execution_count": 83,
   "id": "964fabbc",
   "metadata": {},
   "outputs": [],
   "source": [
    "tfidf = TfidfVectorizer()"
   ]
  },
  {
   "cell_type": "code",
   "execution_count": 84,
   "id": "2f67afe1",
   "metadata": {},
   "outputs": [
    {
     "data": {
      "text/plain": [
       "TfidfVectorizer()"
      ]
     },
     "execution_count": 84,
     "metadata": {},
     "output_type": "execute_result"
    }
   ],
   "source": [
    "tfidf.fit(words)"
   ]
  },
  {
   "cell_type": "code",
   "execution_count": 85,
   "id": "606f4f33",
   "metadata": {},
   "outputs": [
    {
     "name": "stdout",
     "output_type": "stream",
     "text": [
      "{'movies': 7, 'really': 9, 'awesome': 1, 'love': 5, 'movie': 6, 'worst': 14, 'ever': 4, 'see': 10, 'never': 8, 'watch': 13, 'director': 3, 'yesterday': 15, 'still': 11, 'think': 12, 'direction': 2, 'act': 0}\n"
     ]
    }
   ],
   "source": [
    "print(tfidf.vocabulary_)"
   ]
  },
  {
   "cell_type": "code",
   "execution_count": 86,
   "id": "769e02ab",
   "metadata": {},
   "outputs": [
    {
     "data": {
      "text/plain": [
       "<3x16 sparse matrix of type '<class 'numpy.float64'>'\n",
       "\twith 19 stored elements in Compressed Sparse Row format>"
      ]
     },
     "execution_count": 86,
     "metadata": {},
     "output_type": "execute_result"
    }
   ],
   "source": [
    "tfidf.transform(words)"
   ]
  },
  {
   "cell_type": "code",
   "execution_count": 87,
   "id": "a6c8c0f3",
   "metadata": {},
   "outputs": [
    {
     "data": {
      "text/plain": [
       "array([[0.        , 0.47952794, 0.        , 0.        , 0.        ,\n",
       "        0.47952794, 0.28321692, 0.47952794, 0.        , 0.47952794,\n",
       "        0.        , 0.        , 0.        , 0.        , 0.        ,\n",
       "        0.        ],\n",
       "       [0.        , 0.        , 0.        , 0.37867627, 0.37867627,\n",
       "        0.        , 0.44730461, 0.        , 0.37867627, 0.        ,\n",
       "        0.37867627, 0.        , 0.        , 0.28799306, 0.37867627,\n",
       "        0.        ],\n",
       "       [0.37867627, 0.        , 0.37867627, 0.        , 0.        ,\n",
       "        0.        , 0.44730461, 0.        , 0.        , 0.        ,\n",
       "        0.        , 0.37867627, 0.37867627, 0.28799306, 0.        ,\n",
       "        0.37867627]])"
      ]
     },
     "execution_count": 87,
     "metadata": {},
     "output_type": "execute_result"
    }
   ],
   "source": [
    "tfidf.transform(words).toarray()"
   ]
  },
  {
   "cell_type": "code",
   "execution_count": null,
   "id": "da3ca3f3",
   "metadata": {},
   "outputs": [],
   "source": []
  }
 ],
 "metadata": {
  "kernelspec": {
   "display_name": "Python 3 (ipykernel)",
   "language": "python",
   "name": "python3"
  },
  "language_info": {
   "codemirror_mode": {
    "name": "ipython",
    "version": 3
   },
   "file_extension": ".py",
   "mimetype": "text/x-python",
   "name": "python",
   "nbconvert_exporter": "python",
   "pygments_lexer": "ipython3",
   "version": "3.9.13"
  }
 },
 "nbformat": 4,
 "nbformat_minor": 5
}
