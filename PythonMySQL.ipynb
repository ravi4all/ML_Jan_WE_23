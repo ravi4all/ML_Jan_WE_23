{
 "cells": [
  {
   "cell_type": "code",
   "execution_count": 2,
   "id": "3690f9fe",
   "metadata": {},
   "outputs": [
    {
     "name": "stdout",
     "output_type": "stream",
     "text": [
      "Requirement already satisfied: pymysql in c:\\users\\asus\\anaconda3\\lib\\site-packages (1.0.2)\n"
     ]
    }
   ],
   "source": [
    "!pip install pymysql"
   ]
  },
  {
   "cell_type": "code",
   "execution_count": 9,
   "id": "aa974771",
   "metadata": {},
   "outputs": [],
   "source": [
    "import pymysql\n",
    "import pandas as pd"
   ]
  },
  {
   "cell_type": "code",
   "execution_count": 5,
   "id": "95e8e75b",
   "metadata": {},
   "outputs": [],
   "source": [
    "connection = pymysql.Connect(host=\"localhost\", user=\"root\", password=\"root\",\n",
    "                            port=3307, database=\"netflix\")"
   ]
  },
  {
   "cell_type": "code",
   "execution_count": 11,
   "id": "2f19d7e0",
   "metadata": {},
   "outputs": [
    {
     "data": {
      "text/plain": [
       "<pymysql.connections.Connection at 0x145a90c7280>"
      ]
     },
     "execution_count": 11,
     "metadata": {},
     "output_type": "execute_result"
    }
   ],
   "source": [
    "connection"
   ]
  },
  {
   "cell_type": "code",
   "execution_count": 13,
   "id": "e908762e",
   "metadata": {},
   "outputs": [],
   "source": [
    "query = \"SELECT * FROM movies\""
   ]
  },
  {
   "cell_type": "code",
   "execution_count": 10,
   "id": "e54b55ec",
   "metadata": {},
   "outputs": [
    {
     "name": "stderr",
     "output_type": "stream",
     "text": [
      "C:\\Users\\asus\\anaconda3\\lib\\site-packages\\pandas\\io\\sql.py:761: UserWarning: pandas only support SQLAlchemy connectable(engine/connection) ordatabase string URI or sqlite3 DBAPI2 connectionother DBAPI2 objects are not tested, please consider using SQLAlchemy\n",
      "  warnings.warn(\n"
     ]
    },
    {
     "data": {
      "text/html": [
       "<div>\n",
       "<style scoped>\n",
       "    .dataframe tbody tr th:only-of-type {\n",
       "        vertical-align: middle;\n",
       "    }\n",
       "\n",
       "    .dataframe tbody tr th {\n",
       "        vertical-align: top;\n",
       "    }\n",
       "\n",
       "    .dataframe thead th {\n",
       "        text-align: right;\n",
       "    }\n",
       "</style>\n",
       "<table border=\"1\" class=\"dataframe\">\n",
       "  <thead>\n",
       "    <tr style=\"text-align: right;\">\n",
       "      <th></th>\n",
       "      <th>m_id</th>\n",
       "      <th>title</th>\n",
       "      <th>release_date</th>\n",
       "      <th>rating</th>\n",
       "      <th>summary</th>\n",
       "      <th>created_at</th>\n",
       "    </tr>\n",
       "  </thead>\n",
       "  <tbody>\n",
       "    <tr>\n",
       "      <th>0</th>\n",
       "      <td>1</td>\n",
       "      <td>Avengers : End Game</td>\n",
       "      <td>2019-05-05</td>\n",
       "      <td>8</td>\n",
       "      <td>All avengers are assembled to kill Thanos</td>\n",
       "      <td>2022-05-22 17:43:28</td>\n",
       "    </tr>\n",
       "    <tr>\n",
       "      <th>1</th>\n",
       "      <td>2</td>\n",
       "      <td>KGF : Chapter 2</td>\n",
       "      <td>2022-04-14</td>\n",
       "      <td>8</td>\n",
       "      <td>Rocky Kills Adhira</td>\n",
       "      <td>2022-05-22 17:45:29</td>\n",
       "    </tr>\n",
       "    <tr>\n",
       "      <th>2</th>\n",
       "      <td>3</td>\n",
       "      <td>KGF : Chapter 1</td>\n",
       "      <td>2018-04-10</td>\n",
       "      <td>9</td>\n",
       "      <td>Rocky Visits KGF</td>\n",
       "      <td>2022-05-28 15:28:01</td>\n",
       "    </tr>\n",
       "    <tr>\n",
       "      <th>3</th>\n",
       "      <td>4</td>\n",
       "      <td>Pushpa : Part 1</td>\n",
       "      <td>2022-01-01</td>\n",
       "      <td>9</td>\n",
       "      <td>Allu Arjun as pushpa</td>\n",
       "      <td>2022-05-28 15:28:01</td>\n",
       "    </tr>\n",
       "    <tr>\n",
       "      <th>4</th>\n",
       "      <td>5</td>\n",
       "      <td>Spiderman : No Way Home</td>\n",
       "      <td>2021-12-12</td>\n",
       "      <td>9</td>\n",
       "      <td>Spiderman in multiverse</td>\n",
       "      <td>2022-05-28 15:28:01</td>\n",
       "    </tr>\n",
       "    <tr>\n",
       "      <th>5</th>\n",
       "      <td>6</td>\n",
       "      <td>Jersey</td>\n",
       "      <td>2022-04-14</td>\n",
       "      <td>6</td>\n",
       "      <td>Shahid Kapoor plays a parent role and a cricketer</td>\n",
       "      <td>2022-05-28 15:28:01</td>\n",
       "    </tr>\n",
       "    <tr>\n",
       "      <th>6</th>\n",
       "      <td>7</td>\n",
       "      <td>Doctor Strange in Multiverse</td>\n",
       "      <td>2022-05-10</td>\n",
       "      <td>7</td>\n",
       "      <td>Doctor Strange open portal for multiverse</td>\n",
       "      <td>2022-05-28 15:28:01</td>\n",
       "    </tr>\n",
       "  </tbody>\n",
       "</table>\n",
       "</div>"
      ],
      "text/plain": [
       "   m_id                         title release_date  rating  \\\n",
       "0     1           Avengers : End Game   2019-05-05       8   \n",
       "1     2               KGF : Chapter 2   2022-04-14       8   \n",
       "2     3               KGF : Chapter 1   2018-04-10       9   \n",
       "3     4               Pushpa : Part 1   2022-01-01       9   \n",
       "4     5       Spiderman : No Way Home   2021-12-12       9   \n",
       "5     6                        Jersey   2022-04-14       6   \n",
       "6     7  Doctor Strange in Multiverse   2022-05-10       7   \n",
       "\n",
       "                                             summary          created_at  \n",
       "0          All avengers are assembled to kill Thanos 2022-05-22 17:43:28  \n",
       "1                                 Rocky Kills Adhira 2022-05-22 17:45:29  \n",
       "2                                   Rocky Visits KGF 2022-05-28 15:28:01  \n",
       "3                               Allu Arjun as pushpa 2022-05-28 15:28:01  \n",
       "4                            Spiderman in multiverse 2022-05-28 15:28:01  \n",
       "5  Shahid Kapoor plays a parent role and a cricketer 2022-05-28 15:28:01  \n",
       "6          Doctor Strange open portal for multiverse 2022-05-28 15:28:01  "
      ]
     },
     "execution_count": 10,
     "metadata": {},
     "output_type": "execute_result"
    }
   ],
   "source": [
    "pd.read_sql(query, connection)"
   ]
  },
  {
   "cell_type": "code",
   "execution_count": null,
   "id": "47de808b",
   "metadata": {},
   "outputs": [],
   "source": []
  }
 ],
 "metadata": {
  "kernelspec": {
   "display_name": "Python 3 (ipykernel)",
   "language": "python",
   "name": "python3"
  },
  "language_info": {
   "codemirror_mode": {
    "name": "ipython",
    "version": 3
   },
   "file_extension": ".py",
   "mimetype": "text/x-python",
   "name": "python",
   "nbconvert_exporter": "python",
   "pygments_lexer": "ipython3",
   "version": "3.9.7"
  }
 },
 "nbformat": 4,
 "nbformat_minor": 5
}
