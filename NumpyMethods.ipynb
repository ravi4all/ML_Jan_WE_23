{
 "cells": [
  {
   "cell_type": "code",
   "execution_count": 1,
   "id": "a2a9fc92",
   "metadata": {},
   "outputs": [],
   "source": [
    "import numpy as np"
   ]
  },
  {
   "cell_type": "code",
   "execution_count": 2,
   "id": "b0738627",
   "metadata": {},
   "outputs": [],
   "source": [
    "x = np.random.randint(1,50,24)"
   ]
  },
  {
   "cell_type": "code",
   "execution_count": 3,
   "id": "84037481",
   "metadata": {},
   "outputs": [
    {
     "data": {
      "text/plain": [
       "array([47, 18, 38, 46,  1,  3, 31, 30, 45, 12,  3, 26, 31, 17, 31, 16, 30,\n",
       "       41, 25,  4, 43, 16, 19, 10])"
      ]
     },
     "execution_count": 3,
     "metadata": {},
     "output_type": "execute_result"
    }
   ],
   "source": [
    "x"
   ]
  },
  {
   "cell_type": "code",
   "execution_count": 4,
   "id": "db4775c3",
   "metadata": {},
   "outputs": [
    {
     "data": {
      "text/plain": [
       "583"
      ]
     },
     "execution_count": 4,
     "metadata": {},
     "output_type": "execute_result"
    }
   ],
   "source": [
    "np.sum(x)"
   ]
  },
  {
   "cell_type": "code",
   "execution_count": 6,
   "id": "202a3048",
   "metadata": {},
   "outputs": [
    {
     "data": {
      "text/plain": [
       "583"
      ]
     },
     "execution_count": 6,
     "metadata": {},
     "output_type": "execute_result"
    }
   ],
   "source": [
    "x.sum()"
   ]
  },
  {
   "cell_type": "code",
   "execution_count": 7,
   "id": "c172df1f",
   "metadata": {},
   "outputs": [
    {
     "data": {
      "text/plain": [
       "47"
      ]
     },
     "execution_count": 7,
     "metadata": {},
     "output_type": "execute_result"
    }
   ],
   "source": [
    "np.max(x)"
   ]
  },
  {
   "cell_type": "code",
   "execution_count": 8,
   "id": "e1800646",
   "metadata": {},
   "outputs": [
    {
     "data": {
      "text/plain": [
       "1"
      ]
     },
     "execution_count": 8,
     "metadata": {},
     "output_type": "execute_result"
    }
   ],
   "source": [
    "np.min(x)"
   ]
  },
  {
   "cell_type": "code",
   "execution_count": 10,
   "id": "6d525d31",
   "metadata": {},
   "outputs": [
    {
     "data": {
      "text/plain": [
       "24.291666666666668"
      ]
     },
     "execution_count": 10,
     "metadata": {},
     "output_type": "execute_result"
    }
   ],
   "source": [
    "np.mean(x)"
   ]
  },
  {
   "cell_type": "code",
   "execution_count": 11,
   "id": "1e6a41a9",
   "metadata": {},
   "outputs": [
    {
     "data": {
      "text/plain": [
       "204.6232638888889"
      ]
     },
     "execution_count": 11,
     "metadata": {},
     "output_type": "execute_result"
    }
   ],
   "source": [
    "np.var(x)"
   ]
  },
  {
   "cell_type": "code",
   "execution_count": 12,
   "id": "9ca6f37c",
   "metadata": {},
   "outputs": [
    {
     "data": {
      "text/plain": [
       "25.5"
      ]
     },
     "execution_count": 12,
     "metadata": {},
     "output_type": "execute_result"
    }
   ],
   "source": [
    "np.median(x)"
   ]
  },
  {
   "cell_type": "code",
   "execution_count": 13,
   "id": "7d86d850",
   "metadata": {},
   "outputs": [
    {
     "data": {
      "text/plain": [
       "14.304658817633118"
      ]
     },
     "execution_count": 13,
     "metadata": {},
     "output_type": "execute_result"
    }
   ],
   "source": [
    "np.std(x)"
   ]
  },
  {
   "cell_type": "code",
   "execution_count": 14,
   "id": "065e7341",
   "metadata": {},
   "outputs": [
    {
     "data": {
      "text/plain": [
       "array([ 1,  3,  3,  4, 10, 12, 16, 16, 17, 18, 19, 25, 26, 30, 30, 31, 31,\n",
       "       31, 38, 41, 43, 45, 46, 47])"
      ]
     },
     "execution_count": 14,
     "metadata": {},
     "output_type": "execute_result"
    }
   ],
   "source": [
    "np.sort(x)"
   ]
  },
  {
   "cell_type": "code",
   "execution_count": 15,
   "id": "e85a8d98",
   "metadata": {},
   "outputs": [
    {
     "data": {
      "text/plain": [
       "0"
      ]
     },
     "execution_count": 15,
     "metadata": {},
     "output_type": "execute_result"
    }
   ],
   "source": [
    "# index of element\n",
    "np.argmax(x)"
   ]
  },
  {
   "cell_type": "code",
   "execution_count": 16,
   "id": "b48aeb03",
   "metadata": {},
   "outputs": [
    {
     "data": {
      "text/plain": [
       "4"
      ]
     },
     "execution_count": 16,
     "metadata": {},
     "output_type": "execute_result"
    }
   ],
   "source": [
    "# index of element\n",
    "np.argmin(x)"
   ]
  },
  {
   "cell_type": "code",
   "execution_count": 17,
   "id": "ffbb0cfe",
   "metadata": {},
   "outputs": [
    {
     "data": {
      "text/plain": [
       "array([[47, 18, 38, 46,  1,  3],\n",
       "       [31, 30, 45, 12,  3, 26],\n",
       "       [31, 17, 31, 16, 30, 41],\n",
       "       [25,  4, 43, 16, 19, 10]])"
      ]
     },
     "execution_count": 17,
     "metadata": {},
     "output_type": "execute_result"
    }
   ],
   "source": [
    "# convert 1D to 2D\n",
    "np.reshape(x, (4,6))"
   ]
  },
  {
   "cell_type": "code",
   "execution_count": 18,
   "id": "f6a4f737",
   "metadata": {},
   "outputs": [
    {
     "data": {
      "text/plain": [
       "array([[47, 18, 38, 46,  1,  3],\n",
       "       [31, 30, 45, 12,  3, 26],\n",
       "       [31, 17, 31, 16, 30, 41],\n",
       "       [25,  4, 43, 16, 19, 10]])"
      ]
     },
     "execution_count": 18,
     "metadata": {},
     "output_type": "execute_result"
    }
   ],
   "source": [
    "np.reshape(x, (4,-1))"
   ]
  },
  {
   "cell_type": "code",
   "execution_count": 19,
   "id": "f1ca3ee7",
   "metadata": {},
   "outputs": [
    {
     "data": {
      "text/plain": [
       "array([[47, 18, 38, 46],\n",
       "       [ 1,  3, 31, 30],\n",
       "       [45, 12,  3, 26],\n",
       "       [31, 17, 31, 16],\n",
       "       [30, 41, 25,  4],\n",
       "       [43, 16, 19, 10]])"
      ]
     },
     "execution_count": 19,
     "metadata": {},
     "output_type": "execute_result"
    }
   ],
   "source": [
    "np.reshape(x, (6,-1))"
   ]
  },
  {
   "cell_type": "code",
   "execution_count": 20,
   "id": "9c69fa12",
   "metadata": {},
   "outputs": [
    {
     "data": {
      "text/plain": [
       "array([[47, 18, 38],\n",
       "       [46,  1,  3],\n",
       "       [31, 30, 45],\n",
       "       [12,  3, 26],\n",
       "       [31, 17, 31],\n",
       "       [16, 30, 41],\n",
       "       [25,  4, 43],\n",
       "       [16, 19, 10]])"
      ]
     },
     "execution_count": 20,
     "metadata": {},
     "output_type": "execute_result"
    }
   ],
   "source": [
    "np.reshape(x, (-1,3))"
   ]
  },
  {
   "cell_type": "code",
   "execution_count": 21,
   "id": "15d20163",
   "metadata": {},
   "outputs": [],
   "source": [
    "x = np.reshape(x, (4,6))"
   ]
  },
  {
   "cell_type": "code",
   "execution_count": 22,
   "id": "79b086f7",
   "metadata": {},
   "outputs": [
    {
     "data": {
      "text/plain": [
       "array([[47, 18, 38, 46,  1,  3],\n",
       "       [31, 30, 45, 12,  3, 26],\n",
       "       [31, 17, 31, 16, 30, 41],\n",
       "       [25,  4, 43, 16, 19, 10]])"
      ]
     },
     "execution_count": 22,
     "metadata": {},
     "output_type": "execute_result"
    }
   ],
   "source": [
    "x"
   ]
  },
  {
   "cell_type": "code",
   "execution_count": 23,
   "id": "40e03036",
   "metadata": {},
   "outputs": [
    {
     "data": {
      "text/plain": [
       "583"
      ]
     },
     "execution_count": 23,
     "metadata": {},
     "output_type": "execute_result"
    }
   ],
   "source": [
    "np.sum(x)"
   ]
  },
  {
   "cell_type": "code",
   "execution_count": 24,
   "id": "a2f89521",
   "metadata": {},
   "outputs": [
    {
     "data": {
      "text/plain": [
       "array([134,  69, 157,  90,  53,  80])"
      ]
     },
     "execution_count": 24,
     "metadata": {},
     "output_type": "execute_result"
    }
   ],
   "source": [
    "np.sum(x, axis=0)"
   ]
  },
  {
   "cell_type": "code",
   "execution_count": 25,
   "id": "1983b7b5",
   "metadata": {},
   "outputs": [
    {
     "data": {
      "text/plain": [
       "array([153, 147, 166, 117])"
      ]
     },
     "execution_count": 25,
     "metadata": {},
     "output_type": "execute_result"
    }
   ],
   "source": [
    "np.sum(x, axis=1)"
   ]
  },
  {
   "cell_type": "code",
   "execution_count": 26,
   "id": "2c998f72",
   "metadata": {},
   "outputs": [
    {
     "data": {
      "text/plain": [
       "array([47, 30, 45, 46, 30, 41])"
      ]
     },
     "execution_count": 26,
     "metadata": {},
     "output_type": "execute_result"
    }
   ],
   "source": [
    "np.max(x, axis=0)"
   ]
  },
  {
   "cell_type": "code",
   "execution_count": 27,
   "id": "e2bee878",
   "metadata": {},
   "outputs": [
    {
     "data": {
      "text/plain": [
       "array([47, 18, 38, 46,  1,  3, 31, 30, 45, 12,  3, 26, 31, 17, 31, 16, 30,\n",
       "       41, 25,  4, 43, 16, 19, 10])"
      ]
     },
     "execution_count": 27,
     "metadata": {},
     "output_type": "execute_result"
    }
   ],
   "source": [
    "# convert NDimension to 1D\n",
    "x.flatten()"
   ]
  },
  {
   "cell_type": "code",
   "execution_count": 28,
   "id": "ead0b4ac",
   "metadata": {},
   "outputs": [
    {
     "data": {
      "text/plain": [
       "array([[47, 18, 38, 46,  1,  3],\n",
       "       [31, 30, 45, 12,  3, 26],\n",
       "       [31, 17, 31, 16, 30, 41],\n",
       "       [25,  4, 43, 16, 19, 10]])"
      ]
     },
     "execution_count": 28,
     "metadata": {},
     "output_type": "execute_result"
    }
   ],
   "source": [
    "x"
   ]
  },
  {
   "cell_type": "code",
   "execution_count": 29,
   "id": "2fb9eefe",
   "metadata": {},
   "outputs": [],
   "source": [
    "# np.vstack\n",
    "# np.hstack"
   ]
  },
  {
   "cell_type": "code",
   "execution_count": 30,
   "id": "b0485290",
   "metadata": {},
   "outputs": [],
   "source": [
    "x1 = np.array([[4,2,6,6,1,6]])\n",
    "x2 = np.array([[56],[100],[59],[12]])"
   ]
  },
  {
   "cell_type": "code",
   "execution_count": 32,
   "id": "f8e24a25",
   "metadata": {},
   "outputs": [
    {
     "data": {
      "text/plain": [
       "array([[ 47,  18,  38,  46,   1,   3,  56],\n",
       "       [ 31,  30,  45,  12,   3,  26, 100],\n",
       "       [ 31,  17,  31,  16,  30,  41,  59],\n",
       "       [ 25,   4,  43,  16,  19,  10,  12]])"
      ]
     },
     "execution_count": 32,
     "metadata": {},
     "output_type": "execute_result"
    }
   ],
   "source": [
    "np.hstack((x, x2))"
   ]
  },
  {
   "cell_type": "code",
   "execution_count": 33,
   "id": "51218649",
   "metadata": {},
   "outputs": [
    {
     "data": {
      "text/plain": [
       "array([[47, 18, 38, 46,  1,  3],\n",
       "       [31, 30, 45, 12,  3, 26],\n",
       "       [31, 17, 31, 16, 30, 41],\n",
       "       [25,  4, 43, 16, 19, 10],\n",
       "       [ 4,  2,  6,  6,  1,  6]])"
      ]
     },
     "execution_count": 33,
     "metadata": {},
     "output_type": "execute_result"
    }
   ],
   "source": [
    "np.vstack((x, x1))"
   ]
  },
  {
   "cell_type": "code",
   "execution_count": 34,
   "id": "e9f0fe80",
   "metadata": {},
   "outputs": [
    {
     "data": {
      "text/plain": [
       "array([[47, 18, 38, 46,  1,  3],\n",
       "       [31, 30, 45, 12,  3, 26],\n",
       "       [31, 17, 31, 16, 30, 41],\n",
       "       [25,  4, 43, 16, 19, 10],\n",
       "       [ 4,  2,  6,  6,  1,  6]])"
      ]
     },
     "execution_count": 34,
     "metadata": {},
     "output_type": "execute_result"
    }
   ],
   "source": [
    "np.r_[x, x1]"
   ]
  },
  {
   "cell_type": "code",
   "execution_count": 35,
   "id": "753d1c2f",
   "metadata": {},
   "outputs": [
    {
     "data": {
      "text/plain": [
       "array([[ 47,  18,  38,  46,   1,   3,  56],\n",
       "       [ 31,  30,  45,  12,   3,  26, 100],\n",
       "       [ 31,  17,  31,  16,  30,  41,  59],\n",
       "       [ 25,   4,  43,  16,  19,  10,  12]])"
      ]
     },
     "execution_count": 35,
     "metadata": {},
     "output_type": "execute_result"
    }
   ],
   "source": [
    "np.c_[x, x2]"
   ]
  },
  {
   "cell_type": "code",
   "execution_count": 36,
   "id": "dc4614fb",
   "metadata": {},
   "outputs": [
    {
     "data": {
      "text/plain": [
       "array([[47, 18, 38, 46,  1,  3],\n",
       "       [31, 30, 45, 12,  3, 26],\n",
       "       [31, 17, 31, 16, 30, 41],\n",
       "       [25,  4, 43, 16, 19, 10]])"
      ]
     },
     "execution_count": 36,
     "metadata": {},
     "output_type": "execute_result"
    }
   ],
   "source": [
    "x"
   ]
  },
  {
   "cell_type": "code",
   "execution_count": 37,
   "id": "f3c803ed",
   "metadata": {},
   "outputs": [
    {
     "data": {
      "text/plain": [
       "(array([0, 0, 1, 3], dtype=int64), array([4, 5, 4, 1], dtype=int64))"
      ]
     },
     "execution_count": 37,
     "metadata": {},
     "output_type": "execute_result"
    }
   ],
   "source": [
    "np.where(x < 10)"
   ]
  },
  {
   "cell_type": "code",
   "execution_count": 38,
   "id": "8fff5780",
   "metadata": {},
   "outputs": [
    {
     "data": {
      "text/plain": [
       "array([[47, 18, 38, 46, -4, -2],\n",
       "       [31, 30, 45, 12, -2, 26],\n",
       "       [31, 17, 31, 16, 30, 41],\n",
       "       [25, -1, 43, 16, 19, 10]])"
      ]
     },
     "execution_count": 38,
     "metadata": {},
     "output_type": "execute_result"
    }
   ],
   "source": [
    "np.where(x < 10, x - 5, x)"
   ]
  },
  {
   "cell_type": "code",
   "execution_count": null,
   "id": "93084174",
   "metadata": {},
   "outputs": [],
   "source": []
  },
  {
   "cell_type": "code",
   "execution_count": null,
   "id": "edc7535c",
   "metadata": {},
   "outputs": [],
   "source": []
  }
 ],
 "metadata": {
  "kernelspec": {
   "display_name": "Python 3 (ipykernel)",
   "language": "python",
   "name": "python3"
  },
  "language_info": {
   "codemirror_mode": {
    "name": "ipython",
    "version": 3
   },
   "file_extension": ".py",
   "mimetype": "text/x-python",
   "name": "python",
   "nbconvert_exporter": "python",
   "pygments_lexer": "ipython3",
   "version": "3.9.7"
  }
 },
 "nbformat": 4,
 "nbformat_minor": 5
}
