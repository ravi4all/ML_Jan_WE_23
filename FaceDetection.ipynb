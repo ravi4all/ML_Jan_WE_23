{
 "cells": [
  {
   "cell_type": "code",
   "execution_count": 1,
   "id": "27b26796",
   "metadata": {},
   "outputs": [],
   "source": [
    "import cv2"
   ]
  },
  {
   "cell_type": "code",
   "execution_count": 2,
   "id": "2be307c7",
   "metadata": {},
   "outputs": [],
   "source": [
    "img = cv2.imread('img_1.jpg')"
   ]
  },
  {
   "cell_type": "code",
   "execution_count": 3,
   "id": "d86565a3",
   "metadata": {},
   "outputs": [],
   "source": [
    "img = cv2.resize(img, (650,700))"
   ]
  },
  {
   "cell_type": "code",
   "execution_count": 5,
   "id": "733705ba",
   "metadata": {},
   "outputs": [
    {
     "data": {
      "text/plain": [
       "-1"
      ]
     },
     "execution_count": 5,
     "metadata": {},
     "output_type": "execute_result"
    }
   ],
   "source": [
    "cv2.imshow('result', img)\n",
    "cv2.waitKey(0)"
   ]
  },
  {
   "cell_type": "code",
   "execution_count": 2,
   "id": "97b7bc2f",
   "metadata": {},
   "outputs": [],
   "source": [
    "haar_features = cv2.CascadeClassifier('haarcascade_frontalface_default.xml')"
   ]
  },
  {
   "cell_type": "code",
   "execution_count": 7,
   "id": "41563e30",
   "metadata": {},
   "outputs": [
    {
     "data": {
      "text/plain": [
       "array([[279, 270, 144, 144]])"
      ]
     },
     "execution_count": 7,
     "metadata": {},
     "output_type": "execute_result"
    }
   ],
   "source": [
    "haar_features.detectMultiScale(img)"
   ]
  },
  {
   "cell_type": "code",
   "execution_count": 8,
   "id": "0b3cc51e",
   "metadata": {},
   "outputs": [],
   "source": [
    "face = haar_features.detectMultiScale(img)"
   ]
  },
  {
   "cell_type": "code",
   "execution_count": 9,
   "id": "37397b90",
   "metadata": {},
   "outputs": [
    {
     "data": {
      "text/plain": [
       "-1"
      ]
     },
     "execution_count": 9,
     "metadata": {},
     "output_type": "execute_result"
    }
   ],
   "source": [
    "for x,y,w,h in face:\n",
    "    cv2.rectangle(img, (x,y), (x+w, y+h), (255,0,0), 4)\n",
    "\n",
    "cv2.imshow('result', img)\n",
    "cv2.waitKey(0)"
   ]
  },
  {
   "cell_type": "code",
   "execution_count": 30,
   "id": "12fb9dc6",
   "metadata": {},
   "outputs": [
    {
     "data": {
      "text/plain": [
       "array([[  36,  580,   50,   50],\n",
       "       [ 128,  406,   49,   49],\n",
       "       [ 934,  680,   46,   46],\n",
       "       [ 257,  583,   69,   69],\n",
       "       [ 985,  462,   47,   47],\n",
       "       [ 780,  134,   92,   92],\n",
       "       [ 161,  656,   61,   61],\n",
       "       [1122,  582,   57,   57],\n",
       "       [ 337,  415,   87,   87],\n",
       "       [ 564,  338,  100,  100],\n",
       "       [ 323,  149,   98,   98],\n",
       "       [ 797,  396,   93,   93],\n",
       "       [ 304,  354,  148,  148],\n",
       "       [1032,  538,   52,   52],\n",
       "       [ 518,   34,  102,  102]])"
      ]
     },
     "execution_count": 30,
     "metadata": {},
     "output_type": "execute_result"
    }
   ],
   "source": [
    "img = cv2.imread('Avengers-Endgame-Film-Review.jpg')\n",
    "img = cv2.resize(img, (1200,900))\n",
    "# faces = haar_features.detectMultiScale(img, 1.20)\n",
    "faces = haar_features.detectMultiScale(img)\n",
    "faces"
   ]
  },
  {
   "cell_type": "code",
   "execution_count": 31,
   "id": "959bb376",
   "metadata": {},
   "outputs": [
    {
     "data": {
      "text/plain": [
       "-1"
      ]
     },
     "execution_count": 31,
     "metadata": {},
     "output_type": "execute_result"
    }
   ],
   "source": [
    "for x,y,w,h in faces:\n",
    "    cv2.rectangle(img, (x,y), (x+w, y+h), (255,0,0), 4)\n",
    "\n",
    "cv2.imshow('result', img)\n",
    "cv2.waitKey(0)"
   ]
  },
  {
   "cell_type": "code",
   "execution_count": 11,
   "id": "0c750655",
   "metadata": {},
   "outputs": [],
   "source": [
    "# capture = cv2.VideoCapture(0)\n",
    "capture = cv2.VideoCapture('video_1.mp4')\n",
    "i = 0\n",
    "while True:\n",
    "    flag, frame = capture.read()\n",
    "    if flag:\n",
    "        frame = cv2.resize(frame, (1000,600))\n",
    "        faces = haar_features.detectMultiScale(frame)\n",
    "        for x,y,w,h in faces:\n",
    "            cv2.rectangle(frame, (x,y), (x+w, y+h), (255,0,0), 4)\n",
    "        cv2.imshow('res', frame)\n",
    "        cv2.imwrite(f'images/img_{i}.png', frame)\n",
    "        i += 1\n",
    "        #27 - ASCII of escape\n",
    "        if cv2.waitKey(1) == 27:\n",
    "            break\n",
    "    else:\n",
    "        print(\"Video/Camera not found\")\n",
    "    \n",
    "cv2.destroyAllWindows()\n",
    "capture.release()"
   ]
  },
  {
   "cell_type": "code",
   "execution_count": null,
   "id": "12bb68a2",
   "metadata": {},
   "outputs": [],
   "source": []
  }
 ],
 "metadata": {
  "kernelspec": {
   "display_name": "Python 3 (ipykernel)",
   "language": "python",
   "name": "python3"
  },
  "language_info": {
   "codemirror_mode": {
    "name": "ipython",
    "version": 3
   },
   "file_extension": ".py",
   "mimetype": "text/x-python",
   "name": "python",
   "nbconvert_exporter": "python",
   "pygments_lexer": "ipython3",
   "version": "3.9.13"
  }
 },
 "nbformat": 4,
 "nbformat_minor": 5
}
