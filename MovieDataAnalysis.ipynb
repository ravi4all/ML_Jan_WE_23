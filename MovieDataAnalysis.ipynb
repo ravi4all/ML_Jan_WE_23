{
 "cells": [
  {
   "cell_type": "code",
   "execution_count": 1,
   "id": "5a966d74",
   "metadata": {},
   "outputs": [],
   "source": [
    "import pandas as pd"
   ]
  },
  {
   "cell_type": "code",
   "execution_count": 2,
   "id": "80129d58",
   "metadata": {},
   "outputs": [],
   "source": [
    "df = pd.read_csv(\"rotten_tomatoes_top_movies.csv\")"
   ]
  },
  {
   "cell_type": "code",
   "execution_count": 3,
   "id": "fc815483",
   "metadata": {},
   "outputs": [
    {
     "data": {
      "text/plain": [
       "(1610, 26)"
      ]
     },
     "execution_count": 3,
     "metadata": {},
     "output_type": "execute_result"
    }
   ],
   "source": [
    "df.shape"
   ]
  },
  {
   "cell_type": "code",
   "execution_count": 4,
   "id": "0e75fdf3",
   "metadata": {},
   "outputs": [
    {
     "data": {
      "text/plain": [
       "Index(['Unnamed: 0', 'title', 'year', 'synopsis', 'critic_score',\n",
       "       'people_score', 'consensus', 'total_reviews', 'total_ratings', 'type',\n",
       "       'rating', 'genre', 'original_language', 'director', 'producer',\n",
       "       'writer', 'release_date_(theaters)', 'release_date_(streaming)',\n",
       "       'box_office_(gross_usa)', 'runtime', 'production_co', 'sound_mix',\n",
       "       'aspect_ratio', 'view_the_collection', 'crew', 'link'],\n",
       "      dtype='object')"
      ]
     },
     "execution_count": 4,
     "metadata": {},
     "output_type": "execute_result"
    }
   ],
   "source": [
    "df.columns"
   ]
  },
  {
   "cell_type": "code",
   "execution_count": 5,
   "id": "a5843741",
   "metadata": {},
   "outputs": [
    {
     "data": {
      "text/html": [
       "<div>\n",
       "<style scoped>\n",
       "    .dataframe tbody tr th:only-of-type {\n",
       "        vertical-align: middle;\n",
       "    }\n",
       "\n",
       "    .dataframe tbody tr th {\n",
       "        vertical-align: top;\n",
       "    }\n",
       "\n",
       "    .dataframe thead th {\n",
       "        text-align: right;\n",
       "    }\n",
       "</style>\n",
       "<table border=\"1\" class=\"dataframe\">\n",
       "  <thead>\n",
       "    <tr style=\"text-align: right;\">\n",
       "      <th></th>\n",
       "      <th>Unnamed: 0</th>\n",
       "      <th>title</th>\n",
       "      <th>year</th>\n",
       "      <th>synopsis</th>\n",
       "      <th>critic_score</th>\n",
       "      <th>people_score</th>\n",
       "      <th>consensus</th>\n",
       "      <th>total_reviews</th>\n",
       "      <th>total_ratings</th>\n",
       "      <th>type</th>\n",
       "      <th>...</th>\n",
       "      <th>release_date_(theaters)</th>\n",
       "      <th>release_date_(streaming)</th>\n",
       "      <th>box_office_(gross_usa)</th>\n",
       "      <th>runtime</th>\n",
       "      <th>production_co</th>\n",
       "      <th>sound_mix</th>\n",
       "      <th>aspect_ratio</th>\n",
       "      <th>view_the_collection</th>\n",
       "      <th>crew</th>\n",
       "      <th>link</th>\n",
       "    </tr>\n",
       "  </thead>\n",
       "  <tbody>\n",
       "    <tr>\n",
       "      <th>0</th>\n",
       "      <td>0</td>\n",
       "      <td>Black Panther</td>\n",
       "      <td>2018</td>\n",
       "      <td>After the death of his father, T'Challa return...</td>\n",
       "      <td>96</td>\n",
       "      <td>79.0</td>\n",
       "      <td>Black Panther elevates superhero cinema to thr...</td>\n",
       "      <td>519</td>\n",
       "      <td>50,000+</td>\n",
       "      <td>Action &amp; Adventure</td>\n",
       "      <td>...</td>\n",
       "      <td>Feb 16, 2018 wide</td>\n",
       "      <td>May 2, 2018</td>\n",
       "      <td>$700.2M</td>\n",
       "      <td>2h 14m</td>\n",
       "      <td>Walt Disney Pictures</td>\n",
       "      <td>DTS, Dolby Atmos</td>\n",
       "      <td>Scope (2.35:1)</td>\n",
       "      <td>Marvel Cinematic Universe</td>\n",
       "      <td>Chadwick Boseman, Michael B. Jordan, Lupita Ny...</td>\n",
       "      <td>http://www.rottentomatoes.com/m/black_panther_...</td>\n",
       "    </tr>\n",
       "    <tr>\n",
       "      <th>1</th>\n",
       "      <td>1</td>\n",
       "      <td>Avengers: Endgame</td>\n",
       "      <td>2019</td>\n",
       "      <td>Adrift in space with no food or water, Tony St...</td>\n",
       "      <td>94</td>\n",
       "      <td>90.0</td>\n",
       "      <td>Exciting, entertaining, and emotionally impact...</td>\n",
       "      <td>538</td>\n",
       "      <td>50,000+</td>\n",
       "      <td>Action &amp; Adventure</td>\n",
       "      <td>...</td>\n",
       "      <td>Apr 26, 2019 wide</td>\n",
       "      <td>Jul 30, 2019</td>\n",
       "      <td>$858.4M</td>\n",
       "      <td>3h 1m</td>\n",
       "      <td>Marvel Studios, Walt Disney Pictures</td>\n",
       "      <td>Dolby Atmos, DTS, Dolby Digital, SDDS</td>\n",
       "      <td>Scope (2.35:1)</td>\n",
       "      <td>Marvel Cinematic Universe</td>\n",
       "      <td>Robert Downey Jr., Chris Evans, Mark Ruffalo, ...</td>\n",
       "      <td>http://www.rottentomatoes.com/m/avengers_endgame</td>\n",
       "    </tr>\n",
       "    <tr>\n",
       "      <th>2</th>\n",
       "      <td>2</td>\n",
       "      <td>Mission: Impossible -- Fallout</td>\n",
       "      <td>2018</td>\n",
       "      <td>Ethan Hunt and the IMF team join forces with C...</td>\n",
       "      <td>97</td>\n",
       "      <td>88.0</td>\n",
       "      <td>Fast, sleek, and fun, Mission: Impossible - Fa...</td>\n",
       "      <td>433</td>\n",
       "      <td>10,000+</td>\n",
       "      <td>Action &amp; Adventure</td>\n",
       "      <td>...</td>\n",
       "      <td>Jul 27, 2018 wide</td>\n",
       "      <td>Nov 20, 2018</td>\n",
       "      <td>$220.1M</td>\n",
       "      <td>2h 27m</td>\n",
       "      <td>Bad Robot, Tom Cruise</td>\n",
       "      <td>DTS, Dolby Atmos, Dolby Digital</td>\n",
       "      <td>Scope (2.35:1)</td>\n",
       "      <td>NaN</td>\n",
       "      <td>Tom Cruise, Henry Cavill, Ving Rhames, Simon P...</td>\n",
       "      <td>http://www.rottentomatoes.com/m/mission_imposs...</td>\n",
       "    </tr>\n",
       "    <tr>\n",
       "      <th>3</th>\n",
       "      <td>3</td>\n",
       "      <td>Mad Max: Fury Road</td>\n",
       "      <td>2015</td>\n",
       "      <td>Years after the collapse of civilization, the ...</td>\n",
       "      <td>97</td>\n",
       "      <td>86.0</td>\n",
       "      <td>With exhilarating action and a surprising amou...</td>\n",
       "      <td>427</td>\n",
       "      <td>100,000+</td>\n",
       "      <td>Action &amp; Adventure</td>\n",
       "      <td>...</td>\n",
       "      <td>May 15, 2015 wide</td>\n",
       "      <td>Aug 10, 2016</td>\n",
       "      <td>$153.6M</td>\n",
       "      <td>2h</td>\n",
       "      <td>Kennedy Miller Mitchell, Village Roadshow Pict...</td>\n",
       "      <td>Dolby Atmos</td>\n",
       "      <td>Scope (2.35:1)</td>\n",
       "      <td>NaN</td>\n",
       "      <td>Tom Hardy, Charlize Theron, Nicholas Hoult, Hu...</td>\n",
       "      <td>http://www.rottentomatoes.com/m/mad_max_fury_road</td>\n",
       "    </tr>\n",
       "    <tr>\n",
       "      <th>4</th>\n",
       "      <td>4</td>\n",
       "      <td>Spider-Man: Into the Spider-Verse</td>\n",
       "      <td>2018</td>\n",
       "      <td>Bitten by a radioactive spider in the subway, ...</td>\n",
       "      <td>97</td>\n",
       "      <td>93.0</td>\n",
       "      <td>Spider-Man: Into the Spider-Verse matches bold...</td>\n",
       "      <td>387</td>\n",
       "      <td>10,000+</td>\n",
       "      <td>Action &amp; Adventure</td>\n",
       "      <td>...</td>\n",
       "      <td>Dec 14, 2018 wide</td>\n",
       "      <td>Mar 7, 2019</td>\n",
       "      <td>$190.2M</td>\n",
       "      <td>1h 57m</td>\n",
       "      <td>Lord Miller, Sony Pictures Animation, Pascal P...</td>\n",
       "      <td>Dolby Atmos, DTS, Dolby Digital, SDDS</td>\n",
       "      <td>Scope (2.35:1)</td>\n",
       "      <td>NaN</td>\n",
       "      <td>Shameik Moore, Hailee Steinfeld, Mahershala Al...</td>\n",
       "      <td>http://www.rottentomatoes.com/m/spider_man_int...</td>\n",
       "    </tr>\n",
       "  </tbody>\n",
       "</table>\n",
       "<p>5 rows × 26 columns</p>\n",
       "</div>"
      ],
      "text/plain": [
       "   Unnamed: 0                              title  year  \\\n",
       "0           0                      Black Panther  2018   \n",
       "1           1                  Avengers: Endgame  2019   \n",
       "2           2     Mission: Impossible -- Fallout  2018   \n",
       "3           3                 Mad Max: Fury Road  2015   \n",
       "4           4  Spider-Man: Into the Spider-Verse  2018   \n",
       "\n",
       "                                            synopsis  critic_score  \\\n",
       "0  After the death of his father, T'Challa return...            96   \n",
       "1  Adrift in space with no food or water, Tony St...            94   \n",
       "2  Ethan Hunt and the IMF team join forces with C...            97   \n",
       "3  Years after the collapse of civilization, the ...            97   \n",
       "4  Bitten by a radioactive spider in the subway, ...            97   \n",
       "\n",
       "   people_score                                          consensus  \\\n",
       "0          79.0  Black Panther elevates superhero cinema to thr...   \n",
       "1          90.0  Exciting, entertaining, and emotionally impact...   \n",
       "2          88.0  Fast, sleek, and fun, Mission: Impossible - Fa...   \n",
       "3          86.0  With exhilarating action and a surprising amou...   \n",
       "4          93.0  Spider-Man: Into the Spider-Verse matches bold...   \n",
       "\n",
       "   total_reviews total_ratings                type  ...  \\\n",
       "0            519       50,000+  Action & Adventure  ...   \n",
       "1            538       50,000+  Action & Adventure  ...   \n",
       "2            433       10,000+  Action & Adventure  ...   \n",
       "3            427      100,000+  Action & Adventure  ...   \n",
       "4            387       10,000+  Action & Adventure  ...   \n",
       "\n",
       "  release_date_(theaters) release_date_(streaming) box_office_(gross_usa)  \\\n",
       "0       Feb 16, 2018 wide              May 2, 2018                $700.2M   \n",
       "1       Apr 26, 2019 wide             Jul 30, 2019                $858.4M   \n",
       "2       Jul 27, 2018 wide             Nov 20, 2018                $220.1M   \n",
       "3       May 15, 2015 wide             Aug 10, 2016                $153.6M   \n",
       "4       Dec 14, 2018 wide              Mar 7, 2019                $190.2M   \n",
       "\n",
       "  runtime                                      production_co  \\\n",
       "0  2h 14m                               Walt Disney Pictures   \n",
       "1   3h 1m               Marvel Studios, Walt Disney Pictures   \n",
       "2  2h 27m                              Bad Robot, Tom Cruise   \n",
       "3      2h  Kennedy Miller Mitchell, Village Roadshow Pict...   \n",
       "4  1h 57m  Lord Miller, Sony Pictures Animation, Pascal P...   \n",
       "\n",
       "                               sound_mix    aspect_ratio  \\\n",
       "0                       DTS, Dolby Atmos  Scope (2.35:1)   \n",
       "1  Dolby Atmos, DTS, Dolby Digital, SDDS  Scope (2.35:1)   \n",
       "2        DTS, Dolby Atmos, Dolby Digital  Scope (2.35:1)   \n",
       "3                            Dolby Atmos  Scope (2.35:1)   \n",
       "4  Dolby Atmos, DTS, Dolby Digital, SDDS  Scope (2.35:1)   \n",
       "\n",
       "         view_the_collection  \\\n",
       "0  Marvel Cinematic Universe   \n",
       "1  Marvel Cinematic Universe   \n",
       "2                        NaN   \n",
       "3                        NaN   \n",
       "4                        NaN   \n",
       "\n",
       "                                                crew  \\\n",
       "0  Chadwick Boseman, Michael B. Jordan, Lupita Ny...   \n",
       "1  Robert Downey Jr., Chris Evans, Mark Ruffalo, ...   \n",
       "2  Tom Cruise, Henry Cavill, Ving Rhames, Simon P...   \n",
       "3  Tom Hardy, Charlize Theron, Nicholas Hoult, Hu...   \n",
       "4  Shameik Moore, Hailee Steinfeld, Mahershala Al...   \n",
       "\n",
       "                                                link  \n",
       "0  http://www.rottentomatoes.com/m/black_panther_...  \n",
       "1   http://www.rottentomatoes.com/m/avengers_endgame  \n",
       "2  http://www.rottentomatoes.com/m/mission_imposs...  \n",
       "3  http://www.rottentomatoes.com/m/mad_max_fury_road  \n",
       "4  http://www.rottentomatoes.com/m/spider_man_int...  \n",
       "\n",
       "[5 rows x 26 columns]"
      ]
     },
     "execution_count": 5,
     "metadata": {},
     "output_type": "execute_result"
    }
   ],
   "source": [
    "df.head()"
   ]
  },
  {
   "cell_type": "code",
   "execution_count": 6,
   "id": "d994c48d",
   "metadata": {},
   "outputs": [
    {
     "data": {
      "text/plain": [
       "Action & Adventure           100\n",
       "Animation                    100\n",
       "Special Interest             100\n",
       "Science Fiction & Fantasy    100\n",
       "Romance                      100\n",
       "Mystery & Suspense           100\n",
       "Musical & Performing Arts    100\n",
       "Kids & Family                100\n",
       "Horror                       100\n",
       "Drama                        100\n",
       "Documentary                  100\n",
       "Comedy                       100\n",
       "Classics                     100\n",
       "Art House & International    100\n",
       "Western                       84\n",
       "Sports & Fitness              69\n",
       "Television                    57\n",
       "Name: type, dtype: int64"
      ]
     },
     "execution_count": 6,
     "metadata": {},
     "output_type": "execute_result"
    }
   ],
   "source": [
    "pd.value_counts(df['type'])"
   ]
  },
  {
   "cell_type": "code",
   "execution_count": 7,
   "id": "95929ad2",
   "metadata": {},
   "outputs": [
    {
     "data": {
      "text/plain": [
       "2018    78\n",
       "2017    76\n",
       "2019    72\n",
       "2016    71\n",
       "2014    66\n",
       "        ..\n",
       "1928     2\n",
       "1921     2\n",
       "1936     2\n",
       "1983     1\n",
       "1929     1\n",
       "Name: year, Length: 98, dtype: int64"
      ]
     },
     "execution_count": 7,
     "metadata": {},
     "output_type": "execute_result"
    }
   ],
   "source": [
    "pd.value_counts(df['year'])"
   ]
  },
  {
   "cell_type": "code",
   "execution_count": 8,
   "id": "d8b6c4a1",
   "metadata": {},
   "outputs": [],
   "source": [
    "sorted_df = df.sort_values(by='year', ascending=False)"
   ]
  },
  {
   "cell_type": "code",
   "execution_count": 14,
   "id": "33c4b375",
   "metadata": {},
   "outputs": [
    {
     "data": {
      "text/plain": [
       "2020    41\n",
       "2019    72\n",
       "2018    78\n",
       "2017    76\n",
       "2016    71\n",
       "Name: year, dtype: int64"
      ]
     },
     "execution_count": 14,
     "metadata": {},
     "output_type": "execute_result"
    }
   ],
   "source": [
    "pd.value_counts(sorted_df['year']).sort_index(ascending=False).head()"
   ]
  },
  {
   "cell_type": "code",
   "execution_count": 15,
   "id": "987d8f4f",
   "metadata": {},
   "outputs": [
    {
     "data": {
      "text/plain": [
       "1927    7\n",
       "1925    5\n",
       "1922    4\n",
       "1921    2\n",
       "1919    4\n",
       "Name: year, dtype: int64"
      ]
     },
     "execution_count": 15,
     "metadata": {},
     "output_type": "execute_result"
    }
   ],
   "source": [
    "pd.value_counts(sorted_df['year']).sort_index(ascending=False).tail()"
   ]
  },
  {
   "cell_type": "code",
   "execution_count": 16,
   "id": "f78d4285",
   "metadata": {},
   "outputs": [
    {
     "data": {
      "text/plain": [
       "561"
      ]
     },
     "execution_count": 16,
     "metadata": {},
     "output_type": "execute_result"
    }
   ],
   "source": [
    "df['total_reviews'].max()"
   ]
  },
  {
   "cell_type": "code",
   "execution_count": 18,
   "id": "5b15c86f",
   "metadata": {},
   "outputs": [
    {
     "data": {
      "text/plain": [
       "414"
      ]
     },
     "execution_count": 18,
     "metadata": {},
     "output_type": "execute_result"
    }
   ],
   "source": [
    "df['total_reviews'].argmax()"
   ]
  },
  {
   "cell_type": "code",
   "execution_count": 20,
   "id": "07996ccf",
   "metadata": {},
   "outputs": [
    {
     "data": {
      "text/plain": [
       "'Once Upon a Time... In Hollywood'"
      ]
     },
     "execution_count": 20,
     "metadata": {},
     "output_type": "execute_result"
    }
   ],
   "source": [
    "df.iloc[414]['title']"
   ]
  },
  {
   "cell_type": "code",
   "execution_count": 21,
   "id": "c533587a",
   "metadata": {},
   "outputs": [],
   "source": [
    "# 1. Find all movies of tom cruise\n",
    "# 2. Find movies released in 2020\n",
    "# 3. In 2020 which movie was given max reviews\n",
    "# 4. How many movies are there of Marvel Cinematic Universe"
   ]
  },
  {
   "cell_type": "code",
   "execution_count": null,
   "id": "d2ee2fd1",
   "metadata": {},
   "outputs": [],
   "source": []
  }
 ],
 "metadata": {
  "kernelspec": {
   "display_name": "Python 3 (ipykernel)",
   "language": "python",
   "name": "python3"
  },
  "language_info": {
   "codemirror_mode": {
    "name": "ipython",
    "version": 3
   },
   "file_extension": ".py",
   "mimetype": "text/x-python",
   "name": "python",
   "nbconvert_exporter": "python",
   "pygments_lexer": "ipython3",
   "version": "3.9.7"
  }
 },
 "nbformat": 4,
 "nbformat_minor": 5
}
