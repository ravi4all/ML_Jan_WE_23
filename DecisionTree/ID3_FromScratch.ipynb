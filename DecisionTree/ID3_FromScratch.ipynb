{
 "cells": [
  {
   "cell_type": "code",
   "execution_count": 1,
   "id": "bca3ae46",
   "metadata": {},
   "outputs": [],
   "source": [
    "import pandas as pd\n",
    "import numpy as np"
   ]
  },
  {
   "cell_type": "code",
   "execution_count": 2,
   "id": "f3d275c3",
   "metadata": {},
   "outputs": [],
   "source": [
    "data = {\n",
    "    \"outlook\" : ['sunny','sunny','overcast','rainy','rainy','rainy','overcast','sunny','sunny','rainy','sunny','overcast','overcast','rainy'],\n",
    "    \"temp\" : ['hot','hot','hot','mild','cool','cool','cool','mild','cool','mild','mild','mild','hot','mild'],\n",
    "    'humidity' : ['high','high','high','high','normal','normal','normal','high','normal','normal','normal','high','normal','high'],\n",
    "    'windy' : ['false','true','false','false','false','true','true','false','false','false','true','true','false','true'],\n",
    "    'play' : ['no','no','yes','yes','yes','no','yes','no','yes','yes','yes','yes','yes','no']\n",
    "}"
   ]
  },
  {
   "cell_type": "code",
   "execution_count": 3,
   "id": "69d1b0f6",
   "metadata": {},
   "outputs": [],
   "source": [
    "df = pd.DataFrame(data)"
   ]
  },
  {
   "cell_type": "code",
   "execution_count": 4,
   "id": "acd6e2af",
   "metadata": {},
   "outputs": [
    {
     "data": {
      "text/html": [
       "<div>\n",
       "<style scoped>\n",
       "    .dataframe tbody tr th:only-of-type {\n",
       "        vertical-align: middle;\n",
       "    }\n",
       "\n",
       "    .dataframe tbody tr th {\n",
       "        vertical-align: top;\n",
       "    }\n",
       "\n",
       "    .dataframe thead th {\n",
       "        text-align: right;\n",
       "    }\n",
       "</style>\n",
       "<table border=\"1\" class=\"dataframe\">\n",
       "  <thead>\n",
       "    <tr style=\"text-align: right;\">\n",
       "      <th></th>\n",
       "      <th>outlook</th>\n",
       "      <th>temp</th>\n",
       "      <th>humidity</th>\n",
       "      <th>windy</th>\n",
       "      <th>play</th>\n",
       "    </tr>\n",
       "  </thead>\n",
       "  <tbody>\n",
       "    <tr>\n",
       "      <th>0</th>\n",
       "      <td>sunny</td>\n",
       "      <td>hot</td>\n",
       "      <td>high</td>\n",
       "      <td>false</td>\n",
       "      <td>no</td>\n",
       "    </tr>\n",
       "    <tr>\n",
       "      <th>1</th>\n",
       "      <td>sunny</td>\n",
       "      <td>hot</td>\n",
       "      <td>high</td>\n",
       "      <td>true</td>\n",
       "      <td>no</td>\n",
       "    </tr>\n",
       "    <tr>\n",
       "      <th>2</th>\n",
       "      <td>overcast</td>\n",
       "      <td>hot</td>\n",
       "      <td>high</td>\n",
       "      <td>false</td>\n",
       "      <td>yes</td>\n",
       "    </tr>\n",
       "    <tr>\n",
       "      <th>3</th>\n",
       "      <td>rainy</td>\n",
       "      <td>mild</td>\n",
       "      <td>high</td>\n",
       "      <td>false</td>\n",
       "      <td>yes</td>\n",
       "    </tr>\n",
       "    <tr>\n",
       "      <th>4</th>\n",
       "      <td>rainy</td>\n",
       "      <td>cool</td>\n",
       "      <td>normal</td>\n",
       "      <td>false</td>\n",
       "      <td>yes</td>\n",
       "    </tr>\n",
       "  </tbody>\n",
       "</table>\n",
       "</div>"
      ],
      "text/plain": [
       "    outlook  temp humidity  windy play\n",
       "0     sunny   hot     high  false   no\n",
       "1     sunny   hot     high   true   no\n",
       "2  overcast   hot     high  false  yes\n",
       "3     rainy  mild     high  false  yes\n",
       "4     rainy  cool   normal  false  yes"
      ]
     },
     "execution_count": 4,
     "metadata": {},
     "output_type": "execute_result"
    }
   ],
   "source": [
    "df.head()"
   ]
  },
  {
   "cell_type": "code",
   "execution_count": 5,
   "id": "af60d2f6",
   "metadata": {},
   "outputs": [
    {
     "data": {
      "text/plain": [
       "sunny       5\n",
       "rainy       5\n",
       "overcast    4\n",
       "Name: outlook, dtype: int64"
      ]
     },
     "execution_count": 5,
     "metadata": {},
     "output_type": "execute_result"
    }
   ],
   "source": [
    "pd.value_counts(df['outlook'])"
   ]
  },
  {
   "cell_type": "code",
   "execution_count": 6,
   "id": "84c64192",
   "metadata": {},
   "outputs": [
    {
     "data": {
      "text/plain": [
       "array(['sunny', 'overcast', 'rainy'], dtype=object)"
      ]
     },
     "execution_count": 6,
     "metadata": {},
     "output_type": "execute_result"
    }
   ],
   "source": [
    "pd.unique(df['outlook'])"
   ]
  },
  {
   "cell_type": "code",
   "execution_count": 8,
   "id": "52750674",
   "metadata": {},
   "outputs": [],
   "source": [
    "values = pd.unique(df['play'])\n",
    "entropy = 0\n",
    "n = len(df)\n",
    "for value in values:\n",
    "    x = df['play'].value_counts()[value] / n\n",
    "    entropy += -x * np.log2(x)"
   ]
  },
  {
   "cell_type": "code",
   "execution_count": 9,
   "id": "01389bfa",
   "metadata": {},
   "outputs": [
    {
     "data": {
      "text/plain": [
       "0.9402859586706311"
      ]
     },
     "execution_count": 9,
     "metadata": {},
     "output_type": "execute_result"
    }
   ],
   "source": [
    "entropy"
   ]
  },
  {
   "cell_type": "code",
   "execution_count": 10,
   "id": "728b21f2",
   "metadata": {},
   "outputs": [
    {
     "data": {
      "text/plain": [
       "array(['no', 'yes'], dtype=object)"
      ]
     },
     "execution_count": 10,
     "metadata": {},
     "output_type": "execute_result"
    }
   ],
   "source": [
    "values"
   ]
  },
  {
   "cell_type": "code",
   "execution_count": 25,
   "id": "6edccb3c",
   "metadata": {},
   "outputs": [
    {
     "name": "stderr",
     "output_type": "stream",
     "text": [
      "C:\\Users\\asus\\AppData\\Local\\Temp/ipykernel_19568/1440235493.py:1: UserWarning: Boolean Series key will be reindexed to match DataFrame index.\n",
      "  df[df['outlook'] == 'rainy'][df['play'] == 'no']\n"
     ]
    },
    {
     "data": {
      "text/html": [
       "<div>\n",
       "<style scoped>\n",
       "    .dataframe tbody tr th:only-of-type {\n",
       "        vertical-align: middle;\n",
       "    }\n",
       "\n",
       "    .dataframe tbody tr th {\n",
       "        vertical-align: top;\n",
       "    }\n",
       "\n",
       "    .dataframe thead th {\n",
       "        text-align: right;\n",
       "    }\n",
       "</style>\n",
       "<table border=\"1\" class=\"dataframe\">\n",
       "  <thead>\n",
       "    <tr style=\"text-align: right;\">\n",
       "      <th></th>\n",
       "      <th>outlook</th>\n",
       "      <th>temp</th>\n",
       "      <th>humidity</th>\n",
       "      <th>windy</th>\n",
       "      <th>play</th>\n",
       "    </tr>\n",
       "  </thead>\n",
       "  <tbody>\n",
       "    <tr>\n",
       "      <th>5</th>\n",
       "      <td>rainy</td>\n",
       "      <td>cool</td>\n",
       "      <td>normal</td>\n",
       "      <td>true</td>\n",
       "      <td>no</td>\n",
       "    </tr>\n",
       "    <tr>\n",
       "      <th>13</th>\n",
       "      <td>rainy</td>\n",
       "      <td>mild</td>\n",
       "      <td>high</td>\n",
       "      <td>true</td>\n",
       "      <td>no</td>\n",
       "    </tr>\n",
       "  </tbody>\n",
       "</table>\n",
       "</div>"
      ],
      "text/plain": [
       "   outlook  temp humidity windy play\n",
       "5    rainy  cool   normal  true   no\n",
       "13   rainy  mild     high  true   no"
      ]
     },
     "execution_count": 25,
     "metadata": {},
     "output_type": "execute_result"
    }
   ],
   "source": [
    "df[df['outlook'] == 'rainy'][df['play'] == 'no']"
   ]
  },
  {
   "cell_type": "code",
   "execution_count": 24,
   "id": "80cd41f0",
   "metadata": {},
   "outputs": [
    {
     "data": {
      "text/plain": [
       "5"
      ]
     },
     "execution_count": 24,
     "metadata": {},
     "output_type": "execute_result"
    }
   ],
   "source": [
    "len(df[df['outlook'] == 'rainy'])"
   ]
  },
  {
   "cell_type": "code",
   "execution_count": 28,
   "id": "c17416d9",
   "metadata": {},
   "outputs": [],
   "source": [
    "def calc_avg(df, feature):\n",
    "    target_values = pd.unique(df['play'])  # ['no', 'yes']\n",
    "    variables = df[feature].unique()  # ['overcast', 'rainy', 'sunny']\n",
    "    avg = 0\n",
    "    for var in variables:   # var = overcast\n",
    "        entropy = 0\n",
    "        for target in target_values:  # target = 'no'\n",
    "            x = len(df[df[feature] == var][df['play'] == target])\n",
    "            y = len(df[df[feature] == var])\n",
    "            e = x / y + np.finfo(float).eps\n",
    "            entropy += -e * np.log2(e + np.finfo(float).eps)\n",
    "        attr = y / n\n",
    "        avg += attr * entropy\n",
    "    return avg"
   ]
  },
  {
   "cell_type": "code",
   "execution_count": 29,
   "id": "b591fa85",
   "metadata": {},
   "outputs": [
    {
     "name": "stderr",
     "output_type": "stream",
     "text": [
      "C:\\Users\\asus\\AppData\\Local\\Temp/ipykernel_19568/1778659069.py:8: UserWarning: Boolean Series key will be reindexed to match DataFrame index.\n",
      "  x = len(df[df[feature] == var][df['play'] == target])\n"
     ]
    },
    {
     "data": {
      "text/plain": [
       "0.6935361388961945"
      ]
     },
     "execution_count": 29,
     "metadata": {},
     "output_type": "execute_result"
    }
   ],
   "source": [
    "calc_avg(df, 'outlook')"
   ]
  },
  {
   "cell_type": "code",
   "execution_count": 30,
   "id": "4db60d20",
   "metadata": {},
   "outputs": [
    {
     "name": "stderr",
     "output_type": "stream",
     "text": [
      "C:\\Users\\asus\\AppData\\Local\\Temp/ipykernel_19568/1778659069.py:8: UserWarning: Boolean Series key will be reindexed to match DataFrame index.\n",
      "  x = len(df[df[feature] == var][df['play'] == target])\n"
     ]
    },
    {
     "data": {
      "text/plain": [
       "0.7884504573082887"
      ]
     },
     "execution_count": 30,
     "metadata": {},
     "output_type": "execute_result"
    }
   ],
   "source": [
    "calc_avg(df, 'humidity')"
   ]
  },
  {
   "cell_type": "code",
   "execution_count": 32,
   "id": "383ba234",
   "metadata": {},
   "outputs": [
    {
     "name": "stderr",
     "output_type": "stream",
     "text": [
      "C:\\Users\\asus\\AppData\\Local\\Temp/ipykernel_19568/1778659069.py:8: UserWarning: Boolean Series key will be reindexed to match DataFrame index.\n",
      "  x = len(df[df[feature] == var][df['play'] == target])\n"
     ]
    },
    {
     "data": {
      "text/plain": [
       "0.9110633930116754"
      ]
     },
     "execution_count": 32,
     "metadata": {},
     "output_type": "execute_result"
    }
   ],
   "source": [
    "calc_avg(df, 'temp')"
   ]
  },
  {
   "cell_type": "code",
   "execution_count": 33,
   "id": "ae99d69e",
   "metadata": {},
   "outputs": [
    {
     "name": "stderr",
     "output_type": "stream",
     "text": [
      "C:\\Users\\asus\\AppData\\Local\\Temp/ipykernel_19568/1778659069.py:8: UserWarning: Boolean Series key will be reindexed to match DataFrame index.\n",
      "  x = len(df[df[feature] == var][df['play'] == target])\n"
     ]
    },
    {
     "data": {
      "text/plain": [
       "0.8921589282623608"
      ]
     },
     "execution_count": 33,
     "metadata": {},
     "output_type": "execute_result"
    }
   ],
   "source": [
    "calc_avg(df, 'windy')"
   ]
  },
  {
   "cell_type": "code",
   "execution_count": 34,
   "id": "1bb84bab",
   "metadata": {},
   "outputs": [
    {
     "name": "stderr",
     "output_type": "stream",
     "text": [
      "C:\\Users\\asus\\AppData\\Local\\Temp/ipykernel_19568/1778659069.py:8: UserWarning: Boolean Series key will be reindexed to match DataFrame index.\n",
      "  x = len(df[df[feature] == var][df['play'] == target])\n"
     ]
    },
    {
     "data": {
      "text/plain": [
       "0.24674981977443666"
      ]
     },
     "execution_count": 34,
     "metadata": {},
     "output_type": "execute_result"
    }
   ],
   "source": [
    "entropy - calc_avg(df, 'outlook')"
   ]
  }
 ],
 "metadata": {
  "kernelspec": {
   "display_name": "Python 3 (ipykernel)",
   "language": "python",
   "name": "python3"
  },
  "language_info": {
   "codemirror_mode": {
    "name": "ipython",
    "version": 3
   },
   "file_extension": ".py",
   "mimetype": "text/x-python",
   "name": "python",
   "nbconvert_exporter": "python",
   "pygments_lexer": "ipython3",
   "version": "3.9.7"
  }
 },
 "nbformat": 4,
 "nbformat_minor": 5
}
